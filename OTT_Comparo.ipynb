{
  "nbformat": 4,
  "nbformat_minor": 0,
  "metadata": {
    "colab": {
      "provenance": [],
      "collapsed_sections": []
    },
    "kernelspec": {
      "name": "python3",
      "display_name": "Python 3"
    },
    "language_info": {
      "name": "python"
    }
  },
  "cells": [
    {
      "cell_type": "markdown",
      "source": [
        "### **OTT Platform Camparo and Shows Recommendation**"
      ],
      "metadata": {
        "id": "S4Z3HHMnh9RB"
      }
    },
    {
      "cell_type": "markdown",
      "source": [
        "![download.jpg](data:image/jpeg;base64,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)    ![download (2).jpg](data:image/jpeg;base64,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)    ![download4.png](data:image/png;base64,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)"
      ],
      "metadata": {
        "id": "WsucQcmZj98J"
      }
    },
    {
      "cell_type": "markdown",
      "source": [
        "### **Log In**"
      ],
      "metadata": {
        "id": "yVpDO3DYi4Vr"
      }
    },
    {
      "cell_type": "code",
      "source": [
        "from google.colab import drive\n",
        "drive.mount('/content/drive')"
      ],
      "metadata": {
        "colab": {
          "base_uri": "https://localhost:8080/"
        },
        "id": "zK4QbjdUZZAL",
        "outputId": "e98b070c-83dc-4685-86de-0436288564f7"
      },
      "execution_count": null,
      "outputs": [
        {
          "output_type": "stream",
          "name": "stdout",
          "text": [
            "Mounted at /content/drive\n"
          ]
        }
      ]
    },
    {
      "cell_type": "code",
      "source": [
        "import sqlite3\n",
        "import os\n",
        "import math\n",
        "import random\n",
        "import smtplib\n",
        "\n",
        "\n",
        "c = sqlite3.connect('/content/drive/MyDrive/OTT PROJECT/OTT.db')\n",
        "cursor =c.cursor()\n",
        "# cursor.execute(\"\"\"Create Table OTT_login(\n",
        "#    Name text,\n",
        "#    Mail text,\n",
        "#    Password text\n",
        "  \n",
        "#  )\"\"\")\n",
        "email = \"\"\n",
        "user= input(\"Already have an account? Y/N \")\n",
        "if(user=='Y'):\n",
        "  while(True):\n",
        "    email=input(\"Enter your E-mail: \")\n",
        "    password= input(\"Enter your password: \")\n",
        "    cursor.execute(\"select * from OTT_login \")\n",
        "    var = cursor.fetchall()\n",
        "    topull = (email,password)\n",
        "    flag= 0\n",
        "    for tuple in var:\n",
        "      if(email == tuple[1] and password == tuple[2]):\n",
        "        flag=1\n",
        "        break\n",
        "    if(flag==1):\n",
        "      print(\"Successful login\")\n",
        "      break\n",
        "    else: \n",
        "      continue \n",
        "\n",
        "\n",
        "\n",
        "else:\n",
        "  while(True):\n",
        "    name= input(\"Enter your Full Name: \")\n",
        "    email = input(\"Enter your Email: \")\n",
        "    password = input('Enter Password: ')\n",
        "    confirm = input('Confirm Password: ')\n",
        " \n",
        "    if(\"@\" not in email):  \n",
        "      print('email error') \n",
        "      continue  \n",
        "    \n",
        "    if(password != confirm and len(password)<6):\n",
        "      print('password error')\n",
        "      continue\n",
        "    \n",
        "\n",
        "      \n",
        "    digits=\"0123456789\"\n",
        "    OTP=\"\"\n",
        "    for i in range(6):\n",
        "        OTP+=digits[math.floor(random.random()*10)]\n",
        "    otp = OTP + \" is your OTP\"\n",
        "    msg= otp\n",
        "\n",
        "    s = smtplib.SMTP('smtp.gmail.com', 587)\n",
        "    s.starttls()\n",
        "    s.login(\"ottcomparo@gmail.com\", \"oxmpttooawznxaui\")\n",
        "    s.sendmail('ottcomparo@gmail.com',email,msg)\n",
        "    a = input(\"Enter Your OTP >>: \")\n",
        "    if a == OTP:\n",
        "        print(\"Verified\")\n",
        "    else:\n",
        "        print(\"Please Check your OTP again\")\n",
        "        continue\n",
        "    cursor.execute('Insert into OTT_login values(?,?,?)',(name,email,password))\n",
        "    c.commit()\n",
        "    c.close(\n",
        "        \n",
        "    )\n",
        "    break\n",
        "\n"
      ],
      "metadata": {
        "colab": {
          "base_uri": "https://localhost:8080/"
        },
        "id": "UD_I30J4bS3s",
        "outputId": "729a9d00-172b-444c-a696-8ef568119e14"
      },
      "execution_count": null,
      "outputs": [
        {
          "output_type": "stream",
          "name": "stdout",
          "text": [
            "Already have an account? Y/N N\n",
            "Enter your Full Name: Harshitha \n",
            "Enter your Email: harshithasuresh.1902@gmail.com\n",
            "Enter Password: 1234567\n",
            "Confirm Password: 1234567\n",
            "Enter Your OTP >>: 457933\n",
            "Verified\n"
          ]
        }
      ]
    },
    {
      "cell_type": "markdown",
      "source": [
        "# **Importing Libraries**"
      ],
      "metadata": {
        "id": "4WbwAAhltqK6"
      }
    },
    {
      "cell_type": "code",
      "execution_count": null,
      "metadata": {
        "id": "LJMSeetd4VnT"
      },
      "outputs": [],
      "source": [
        "import numpy as np\n",
        "import pandas as pd\n",
        "import matplotlib.pyplot as plt\n",
        "import plotly.express as px # for data visualization\n",
        "%matplotlib inline\n"
      ]
    },
    {
      "cell_type": "code",
      "source": [
        "amazon = pd.read_csv(\"/content/drive/MyDrive/OTT PROJECT/amazon_prime_titles.csv\")\n",
        "netflix = pd.read_csv(\"/content/drive/MyDrive/OTT PROJECT/netflix_titles.csv\")\n",
        "disney = pd.read_csv(\"/content/drive/MyDrive/OTT PROJECT/disney_plus_shows.csv\")"
      ],
      "metadata": {
        "id": "tfTl0NnV64QK"
      },
      "execution_count": null,
      "outputs": []
    },
    {
      "cell_type": "code",
      "source": [
        "x = [\"Type\",\"Title\",\"Director\",\"Country\",\"Metascore\"]\n",
        "\n",
        "total = [disney['type'].notnull().sum(), disney['title'].notnull().sum(), disney['director'].notnull().sum(), disney['country'].notnull().sum(), disney['metascore'].notnull().sum()]\n",
        "missing = [disney['type'].isnull().sum(), disney['title'].isnull().sum(), disney['director'].isnull().sum(), disney['country'].isnull().sum(), disney['metascore'].isnull().sum()]\n",
        "unique = [disney['type'].nunique(), disney['title'].isnull().sum(), disney['director'].isnull().sum(), disney['country'].isnull().sum(), disney['metascore'].isnull().sum()]\n",
        "\n",
        "b_unique = list(np.add(total,missing))\n",
        "\n",
        "plt.bar(x,total,0.4,label='Valid')\n",
        "plt.bar(x,missing,0.4,bottom = total,label='Missing')\n",
        "plt.bar(x,unique,0.4,bottom = b_unique ,label='Unique')\n",
        "\n",
        "plt.xlabel(\"Columns\")\n",
        "plt.legend()\n",
        "plt.show()"
      ],
      "metadata": {
        "colab": {
          "base_uri": "https://localhost:8080/",
          "height": 279
        },
        "id": "vQixCCTJuaA6",
        "outputId": "c73f71ed-0776-43fd-aa2e-ed6cd9a2b2e7"
      },
      "execution_count": null,
      "outputs": [
        {
          "output_type": "display_data",
          "data": {
            "image/png": "[encoded data removed]",
            "text/plain": [
              "<Figure size 432x288 with 1 Axes>"
            ]
          },
          "metadata": {
            "needs_background": "light"
          }
        }
      ]
    },
    {
      "cell_type": "markdown",
      "source": [
        "# **DATA CLEANING**"
      ],
      "metadata": {
        "id": "iUVUmilf8FcC"
      }
    },
    {
      "cell_type": "code",
      "source": [
        "amazon = amazon.fillna(method ='bfill')\n",
        "netflix = netflix.fillna(method='bfill')\n",
        "disney = disney.fillna(method ='bfill')"
      ],
      "metadata": {
        "id": "kALMYw3r7f2G"
      },
      "execution_count": null,
      "outputs": []
    },
    {
      "cell_type": "code",
      "source": [
        "amazon.head()"
      ],
      "metadata": {
        "colab": {
          "base_uri": "https://localhost:8080/",
          "height": 493
        },
        "id": "3bH_nlKQ8La6",
        "outputId": "a5543221-3dae-49f1-9ef3-94ae7854ca3d"
      },
      "execution_count": null,
      "outputs": [
        {
          "output_type": "execute_result",
          "data": {
            "text/html": [
              "\n",
              "  <div id=\"df-ba7b741e-52e0-45a0-9007-287f14cb6046\">\n",
              "    <div class=\"colab-df-container\">\n",
              "      <div>\n",
              "<style scoped>\n",
              "    .dataframe tbody tr th:only-of-type {\n",
              "        vertical-align: middle;\n",
              "    }\n",
              "\n",
              "    .dataframe tbody tr th {\n",
              "        vertical-align: top;\n",
              "    }\n",
              "\n",
              "    .dataframe thead th {\n",
              "        text-align: right;\n",
              "    }\n",
              "</style>\n",
              "<table border=\"1\" class=\"dataframe\">\n",
              "  <thead>\n",
              "    <tr style=\"text-align: right;\">\n",
              "      <th></th>\n",
              "      <th>show_id</th>\n",
              "      <th>type</th>\n",
              "      <th>title</th>\n",
              "      <th>director</th>\n",
              "      <th>cast</th>\n",
              "      <th>country</th>\n",
              "      <th>date_added</th>\n",
              "      <th>release_year</th>\n",
              "      <th>rating</th>\n",
              "      <th>duration</th>\n",
              "      <th>listed_in</th>\n",
              "      <th>description</th>\n",
              "    </tr>\n",
              "  </thead>\n",
              "  <tbody>\n",
              "    <tr>\n",
              "      <th>0</th>\n",
              "      <td>s1</td>\n",
              "      <td>Movie</td>\n",
              "      <td>The Grand Seduction</td>\n",
              "      <td>Don McKellar</td>\n",
              "      <td>Brendan Gleeson, Taylor Kitsch, Gordon Pinsent</td>\n",
              "      <td>Canada</td>\n",
              "      <td>March 30, 2021</td>\n",
              "      <td>2014</td>\n",
              "      <td>NaN</td>\n",
              "      <td>113 min</td>\n",
              "      <td>Comedy, Drama</td>\n",
              "      <td>A small fishing village must procure a local d...</td>\n",
              "    </tr>\n",
              "    <tr>\n",
              "      <th>1</th>\n",
              "      <td>s2</td>\n",
              "      <td>Movie</td>\n",
              "      <td>Take Care Good Night</td>\n",
              "      <td>Girish Joshi</td>\n",
              "      <td>Mahesh Manjrekar, Abhay Mahajan, Sachin Khedekar</td>\n",
              "      <td>India</td>\n",
              "      <td>March 30, 2021</td>\n",
              "      <td>2018</td>\n",
              "      <td>13+</td>\n",
              "      <td>110 min</td>\n",
              "      <td>Drama, International</td>\n",
              "      <td>A Metro Family decides to fight a Cyber Crimin...</td>\n",
              "    </tr>\n",
              "    <tr>\n",
              "      <th>2</th>\n",
              "      <td>s3</td>\n",
              "      <td>Movie</td>\n",
              "      <td>Secrets of Deception</td>\n",
              "      <td>Josh Webber</td>\n",
              "      <td>Tom Sizemore, Lorenzo Lamas, Robert LaSardo, R...</td>\n",
              "      <td>United States</td>\n",
              "      <td>March 30, 2021</td>\n",
              "      <td>2017</td>\n",
              "      <td>NaN</td>\n",
              "      <td>74 min</td>\n",
              "      <td>Action, Drama, Suspense</td>\n",
              "      <td>After a man discovers his wife is cheating on ...</td>\n",
              "    </tr>\n",
              "    <tr>\n",
              "      <th>3</th>\n",
              "      <td>s4</td>\n",
              "      <td>Movie</td>\n",
              "      <td>Pink: Staying True</td>\n",
              "      <td>Sonia Anderson</td>\n",
              "      <td>Interviews with: Pink, Adele, Beyoncé, Britney...</td>\n",
              "      <td>United States</td>\n",
              "      <td>March 30, 2021</td>\n",
              "      <td>2014</td>\n",
              "      <td>NaN</td>\n",
              "      <td>69 min</td>\n",
              "      <td>Documentary</td>\n",
              "      <td>Pink breaks the mold once again, bringing her ...</td>\n",
              "    </tr>\n",
              "    <tr>\n",
              "      <th>4</th>\n",
              "      <td>s5</td>\n",
              "      <td>Movie</td>\n",
              "      <td>Monster Maker</td>\n",
              "      <td>Giles Foster</td>\n",
              "      <td>Harry Dean Stanton, Kieran O'Brien, George Cos...</td>\n",
              "      <td>United Kingdom</td>\n",
              "      <td>March 30, 2021</td>\n",
              "      <td>1989</td>\n",
              "      <td>NaN</td>\n",
              "      <td>45 min</td>\n",
              "      <td>Drama, Fantasy</td>\n",
              "      <td>Teenage Matt Banting wants to work with a famo...</td>\n",
              "    </tr>\n",
              "  </tbody>\n",
              "</table>\n",
              "</div>\n",
              "      <button class=\"colab-df-convert\" onclick=\"convertToInteractive('df-ba7b741e-52e0-45a0-9007-287f14cb6046')\"\n",
              "              title=\"Convert this dataframe to an interactive table.\"\n",
              "              style=\"display:none;\">\n",
              "        \n",
              "  <svg xmlns=\"http://www.w3.org/2000/svg\" height=\"24px\"viewBox=\"0 0 24 24\"\n",
              "       width=\"24px\">\n",
              "    <path d=\"M0 0h24v24H0V0z\" fill=\"none\"/>\n",
              "    <path d=\"M18.56 5.44l.94 2.06.94-2.06 2.06-.94-2.06-.94-.94-2.06-.94 2.06-2.06.94zm-11 1L8.5 8.5l.94-2.06 2.06-.94-2.06-.94L8.5 2.5l-.94 2.06-2.06.94zm10 10l.94 2.06.94-2.06 2.06-.94-2.06-.94-.94-2.06-.94 2.06-2.06.94z\"/><path d=\"M17.41 7.96l-1.37-1.37c-.4-.4-.92-.59-1.43-.59-.52 0-1.04.2-1.43.59L10.3 9.45l-7.72 7.72c-.78.78-.78 2.05 0 2.83L4 21.41c.39.39.9.59 1.41.59.51 0 1.02-.2 1.41-.59l7.78-7.78 2.81-2.81c.8-.78.8-2.07 0-2.86zM5.41 20L4 18.59l7.72-7.72 1.47 1.35L5.41 20z\"/>\n",
              "  </svg>\n",
              "      </button>\n",
              "      \n",
              "  <style>\n",
              "    .colab-df-container {\n",
              "      display:flex;\n",
              "      flex-wrap:wrap;\n",
              "      gap: 12px;\n",
              "    }\n",
              "\n",
              "    .colab-df-convert {\n",
              "      background-color: #E8F0FE;\n",
              "      border: none;\n",
              "      border-radius: 50%;\n",
              "      cursor: pointer;\n",
              "      display: none;\n",
              "      fill: #1967D2;\n",
              "      height: 32px;\n",
              "      padding: 0 0 0 0;\n",
              "      width: 32px;\n",
              "    }\n",
              "\n",
              "    .colab-df-convert:hover {\n",
              "      background-color: #E2EBFA;\n",
              "      box-shadow: 0px 1px 2px rgba(60, 64, 67, 0.3), 0px 1px 3px 1px rgba(60, 64, 67, 0.15);\n",
              "      fill: #174EA6;\n",
              "    }\n",
              "\n",
              "    [theme=dark] .colab-df-convert {\n",
              "      background-color: #3B4455;\n",
              "      fill: #D2E3FC;\n",
              "    }\n",
              "\n",
              "    [theme=dark] .colab-df-convert:hover {\n",
              "      background-color: #434B5C;\n",
              "      box-shadow: 0px 1px 3px 1px rgba(0, 0, 0, 0.15);\n",
              "      filter: drop-shadow(0px 1px 2px rgba(0, 0, 0, 0.3));\n",
              "      fill: #FFFFFF;\n",
              "    }\n",
              "  </style>\n",
              "\n",
              "      <script>\n",
              "        const buttonEl =\n",
              "          document.querySelector('#df-ba7b741e-52e0-45a0-9007-287f14cb6046 button.colab-df-convert');\n",
              "        buttonEl.style.display =\n",
              "          google.colab.kernel.accessAllowed ? 'block' : 'none';\n",
              "\n",
              "        async function convertToInteractive(key) {\n",
              "          const element = document.querySelector('#df-ba7b741e-52e0-45a0-9007-287f14cb6046');\n",
              "          const dataTable =\n",
              "            await google.colab.kernel.invokeFunction('convertToInteractive',\n",
              "                                                     [key], {});\n",
              "          if (!dataTable) return;\n",
              "\n",
              "          const docLinkHtml = 'Like what you see? Visit the ' +\n",
              "            '<a target=\"_blank\" href=https://colab.research.google.com/notebooks/data_table.ipynb>data table notebook</a>'\n",
              "            + ' to learn more about interactive tables.';\n",
              "          element.innerHTML = '';\n",
              "          dataTable['output_type'] = 'display_data';\n",
              "          await google.colab.output.renderOutput(dataTable, element);\n",
              "          const docLink = document.createElement('div');\n",
              "          docLink.innerHTML = docLinkHtml;\n",
              "          element.appendChild(docLink);\n",
              "        }\n",
              "      </script>\n",
              "    </div>\n",
              "  </div>\n",
              "  "
            ],
            "text/plain": [
              "  show_id  ...                                        description\n",
              "0      s1  ...  A small fishing village must procure a local d...\n",
              "1      s2  ...  A Metro Family decides to fight a Cyber Crimin...\n",
              "2      s3  ...  After a man discovers his wife is cheating on ...\n",
              "3      s4  ...  Pink breaks the mold once again, bringing her ...\n",
              "4      s5  ...  Teenage Matt Banting wants to work with a famo...\n",
              "\n",
              "[5 rows x 12 columns]"
            ]
          },
          "metadata": {},
          "execution_count": 11
        }
      ]
    },
    {
      "cell_type": "code",
      "source": [
        "amazon.info()"
      ],
      "metadata": {
        "colab": {
          "base_uri": "https://localhost:8080/"
        },
        "id": "7n4oGBp8KAj-",
        "outputId": "4003fae8-663b-4de3-e1d3-b631e4440911"
      },
      "execution_count": null,
      "outputs": [
        {
          "output_type": "stream",
          "name": "stdout",
          "text": [
            "<class 'pandas.core.frame.DataFrame'>\n",
            "RangeIndex: 9668 entries, 0 to 9667\n",
            "Data columns (total 12 columns):\n",
            " #   Column        Non-Null Count  Dtype \n",
            "---  ------        --------------  ----- \n",
            " 0   show_id       9668 non-null   object\n",
            " 1   type          9668 non-null   object\n",
            " 2   title         9668 non-null   object\n",
            " 3   director      7586 non-null   object\n",
            " 4   cast          8435 non-null   object\n",
            " 5   country       672 non-null    object\n",
            " 6   date_added    155 non-null    object\n",
            " 7   release_year  9668 non-null   int64 \n",
            " 8   rating        9331 non-null   object\n",
            " 9   duration      9668 non-null   object\n",
            " 10  listed_in     9668 non-null   object\n",
            " 11  description   9668 non-null   object\n",
            "dtypes: int64(1), object(11)\n",
            "memory usage: 906.5+ KB\n"
          ]
        }
      ]
    },
    {
      "cell_type": "markdown",
      "source": [
        "### **DISNEY DATASET**"
      ],
      "metadata": {
        "id": "6j9MvWj6x4Xq"
      }
    },
    {
      "cell_type": "code",
      "source": [
        "disney.head()"
      ],
      "metadata": {
        "colab": {
          "base_uri": "https://localhost:8080/",
          "height": 756
        },
        "id": "65nZ2SIL8tQC",
        "outputId": "7feef92f-72ad-4c87-c732-aaaf9d4962ec"
      },
      "execution_count": null,
      "outputs": [
        {
          "output_type": "execute_result",
          "data": {
            "text/html": [
              "\n",
              "  <div id=\"df-12525ee9-557e-4354-89a9-c83137f77f88\">\n",
              "    <div class=\"colab-df-container\">\n",
              "      <div>\n",
              "<style scoped>\n",
              "    .dataframe tbody tr th:only-of-type {\n",
              "        vertical-align: middle;\n",
              "    }\n",
              "\n",
              "    .dataframe tbody tr th {\n",
              "        vertical-align: top;\n",
              "    }\n",
              "\n",
              "    .dataframe thead th {\n",
              "        text-align: right;\n",
              "    }\n",
              "</style>\n",
              "<table border=\"1\" class=\"dataframe\">\n",
              "  <thead>\n",
              "    <tr style=\"text-align: right;\">\n",
              "      <th></th>\n",
              "      <th>imdb_id</th>\n",
              "      <th>title</th>\n",
              "      <th>plot</th>\n",
              "      <th>type</th>\n",
              "      <th>rated</th>\n",
              "      <th>year</th>\n",
              "      <th>released_at</th>\n",
              "      <th>added_at</th>\n",
              "      <th>runtime</th>\n",
              "      <th>genre</th>\n",
              "      <th>director</th>\n",
              "      <th>writer</th>\n",
              "      <th>actors</th>\n",
              "      <th>language</th>\n",
              "      <th>country</th>\n",
              "      <th>awards</th>\n",
              "      <th>metascore</th>\n",
              "      <th>imdb_rating</th>\n",
              "      <th>imdb_votes</th>\n",
              "    </tr>\n",
              "  </thead>\n",
              "  <tbody>\n",
              "    <tr>\n",
              "      <th>0</th>\n",
              "      <td>tt0147800</td>\n",
              "      <td>10 Things I Hate About You</td>\n",
              "      <td>A pretty, popular teenager can't go out on a d...</td>\n",
              "      <td>movie</td>\n",
              "      <td>PG-13</td>\n",
              "      <td>1999</td>\n",
              "      <td>31 Mar 1999</td>\n",
              "      <td>November 12, 2019</td>\n",
              "      <td>97 min</td>\n",
              "      <td>Comedy, Drama, Romance</td>\n",
              "      <td>Gil Junger</td>\n",
              "      <td>Karen McCullah, Kirsten Smith</td>\n",
              "      <td>Heath Ledger, Julia Stiles, Joseph Gordon-Levi...</td>\n",
              "      <td>English, French</td>\n",
              "      <td>USA</td>\n",
              "      <td>2 wins &amp; 13 nominations.</td>\n",
              "      <td>70.0</td>\n",
              "      <td>7.3</td>\n",
              "      <td>283,945</td>\n",
              "    </tr>\n",
              "    <tr>\n",
              "      <th>1</th>\n",
              "      <td>tt7019028</td>\n",
              "      <td>101 Dalmatian Street</td>\n",
              "      <td>This series follows the lives of Delilah and D...</td>\n",
              "      <td>series</td>\n",
              "      <td>G</td>\n",
              "      <td>2018–</td>\n",
              "      <td>25 Mar 2019</td>\n",
              "      <td>February 28, 2020</td>\n",
              "      <td>103 min</td>\n",
              "      <td>Animation, Comedy, Family</td>\n",
              "      <td>Stephen Herek</td>\n",
              "      <td>Dodie Smith (novel), John Hughes (screenplay)</td>\n",
              "      <td>Josh Brener, Michaela Dietz, Bert Davis, Abiga...</td>\n",
              "      <td>English</td>\n",
              "      <td>UK, USA, Canada</td>\n",
              "      <td>Nominated for 1 Golden Globe. Another 3 wins &amp;...</td>\n",
              "      <td>49.0</td>\n",
              "      <td>6.2</td>\n",
              "      <td>124</td>\n",
              "    </tr>\n",
              "    <tr>\n",
              "      <th>2</th>\n",
              "      <td>tt0115433</td>\n",
              "      <td>101 Dalmatians</td>\n",
              "      <td>An evil high-fashion designer plots to steal D...</td>\n",
              "      <td>movie</td>\n",
              "      <td>G</td>\n",
              "      <td>1996</td>\n",
              "      <td>27 Nov 1996</td>\n",
              "      <td>November 12, 2019</td>\n",
              "      <td>103 min</td>\n",
              "      <td>Adventure, Comedy, Crime, Family</td>\n",
              "      <td>Stephen Herek</td>\n",
              "      <td>Dodie Smith (novel), John Hughes (screenplay)</td>\n",
              "      <td>Glenn Close, Jeff Daniels, Joely Richardson, J...</td>\n",
              "      <td>English, Spanish</td>\n",
              "      <td>USA, UK</td>\n",
              "      <td>Nominated for 1 Golden Globe. Another 3 wins &amp;...</td>\n",
              "      <td>49.0</td>\n",
              "      <td>5.7</td>\n",
              "      <td>97,785</td>\n",
              "    </tr>\n",
              "    <tr>\n",
              "      <th>3</th>\n",
              "      <td>tt0324941</td>\n",
              "      <td>101 Dalmatians 2: Patch's London Adventure</td>\n",
              "      <td>Being one of 101 takes its toll on Patch, who ...</td>\n",
              "      <td>movie</td>\n",
              "      <td>G</td>\n",
              "      <td>2002</td>\n",
              "      <td>21 Jan 2003</td>\n",
              "      <td>November 12, 2019</td>\n",
              "      <td>74 min</td>\n",
              "      <td>Animation, Adventure, Comedy, Family, Musical</td>\n",
              "      <td>Jim Kammerud, Brian Smith</td>\n",
              "      <td>Jim Kammerud (story), Dan Root (story), Garret...</td>\n",
              "      <td>Barry Bostwick, Jason Alexander, Martin Short,...</td>\n",
              "      <td>English</td>\n",
              "      <td>USA</td>\n",
              "      <td>5 wins &amp; 10 nominations.</td>\n",
              "      <td>35.0</td>\n",
              "      <td>5.8</td>\n",
              "      <td>7,434</td>\n",
              "    </tr>\n",
              "    <tr>\n",
              "      <th>4</th>\n",
              "      <td>tt0211181</td>\n",
              "      <td>102 Dalmatians</td>\n",
              "      <td>Cruella DeVil gets out of prison and goes afte...</td>\n",
              "      <td>movie</td>\n",
              "      <td>G</td>\n",
              "      <td>2000</td>\n",
              "      <td>22 Nov 2000</td>\n",
              "      <td>November 12, 2019</td>\n",
              "      <td>100 min</td>\n",
              "      <td>Adventure, Comedy, Family</td>\n",
              "      <td>Kevin Lima</td>\n",
              "      <td>Dodie Smith (novel), Kristen Buckley (story), ...</td>\n",
              "      <td>Glenn Close, Gérard Depardieu, Ioan Gruffudd, ...</td>\n",
              "      <td>English</td>\n",
              "      <td>USA, UK</td>\n",
              "      <td>Nominated for 1 Oscar. Another 1 win &amp; 7 nomin...</td>\n",
              "      <td>35.0</td>\n",
              "      <td>4.9</td>\n",
              "      <td>33,444</td>\n",
              "    </tr>\n",
              "  </tbody>\n",
              "</table>\n",
              "</div>\n",
              "      <button class=\"colab-df-convert\" onclick=\"convertToInteractive('df-12525ee9-557e-4354-89a9-c83137f77f88')\"\n",
              "              title=\"Convert this dataframe to an interactive table.\"\n",
              "              style=\"display:none;\">\n",
              "        \n",
              "  <svg xmlns=\"http://www.w3.org/2000/svg\" height=\"24px\"viewBox=\"0 0 24 24\"\n",
              "       width=\"24px\">\n",
              "    <path d=\"M0 0h24v24H0V0z\" fill=\"none\"/>\n",
              "    <path d=\"M18.56 5.44l.94 2.06.94-2.06 2.06-.94-2.06-.94-.94-2.06-.94 2.06-2.06.94zm-11 1L8.5 8.5l.94-2.06 2.06-.94-2.06-.94L8.5 2.5l-.94 2.06-2.06.94zm10 10l.94 2.06.94-2.06 2.06-.94-2.06-.94-.94-2.06-.94 2.06-2.06.94z\"/><path d=\"M17.41 7.96l-1.37-1.37c-.4-.4-.92-.59-1.43-.59-.52 0-1.04.2-1.43.59L10.3 9.45l-7.72 7.72c-.78.78-.78 2.05 0 2.83L4 21.41c.39.39.9.59 1.41.59.51 0 1.02-.2 1.41-.59l7.78-7.78 2.81-2.81c.8-.78.8-2.07 0-2.86zM5.41 20L4 18.59l7.72-7.72 1.47 1.35L5.41 20z\"/>\n",
              "  </svg>\n",
              "      </button>\n",
              "      \n",
              "  <style>\n",
              "    .colab-df-container {\n",
              "      display:flex;\n",
              "      flex-wrap:wrap;\n",
              "      gap: 12px;\n",
              "    }\n",
              "\n",
              "    .colab-df-convert {\n",
              "      background-color: #E8F0FE;\n",
              "      border: none;\n",
              "      border-radius: 50%;\n",
              "      cursor: pointer;\n",
              "      display: none;\n",
              "      fill: #1967D2;\n",
              "      height: 32px;\n",
              "      padding: 0 0 0 0;\n",
              "      width: 32px;\n",
              "    }\n",
              "\n",
              "    .colab-df-convert:hover {\n",
              "      background-color: #E2EBFA;\n",
              "      box-shadow: 0px 1px 2px rgba(60, 64, 67, 0.3), 0px 1px 3px 1px rgba(60, 64, 67, 0.15);\n",
              "      fill: #174EA6;\n",
              "    }\n",
              "\n",
              "    [theme=dark] .colab-df-convert {\n",
              "      background-color: #3B4455;\n",
              "      fill: #D2E3FC;\n",
              "    }\n",
              "\n",
              "    [theme=dark] .colab-df-convert:hover {\n",
              "      background-color: #434B5C;\n",
              "      box-shadow: 0px 1px 3px 1px rgba(0, 0, 0, 0.15);\n",
              "      filter: drop-shadow(0px 1px 2px rgba(0, 0, 0, 0.3));\n",
              "      fill: #FFFFFF;\n",
              "    }\n",
              "  </style>\n",
              "\n",
              "      <script>\n",
              "        const buttonEl =\n",
              "          document.querySelector('#df-12525ee9-557e-4354-89a9-c83137f77f88 button.colab-df-convert');\n",
              "        buttonEl.style.display =\n",
              "          google.colab.kernel.accessAllowed ? 'block' : 'none';\n",
              "\n",
              "        async function convertToInteractive(key) {\n",
              "          const element = document.querySelector('#df-12525ee9-557e-4354-89a9-c83137f77f88');\n",
              "          const dataTable =\n",
              "            await google.colab.kernel.invokeFunction('convertToInteractive',\n",
              "                                                     [key], {});\n",
              "          if (!dataTable) return;\n",
              "\n",
              "          const docLinkHtml = 'Like what you see? Visit the ' +\n",
              "            '<a target=\"_blank\" href=https://colab.research.google.com/notebooks/data_table.ipynb>data table notebook</a>'\n",
              "            + ' to learn more about interactive tables.';\n",
              "          element.innerHTML = '';\n",
              "          dataTable['output_type'] = 'display_data';\n",
              "          await google.colab.output.renderOutput(dataTable, element);\n",
              "          const docLink = document.createElement('div');\n",
              "          docLink.innerHTML = docLinkHtml;\n",
              "          element.appendChild(docLink);\n",
              "        }\n",
              "      </script>\n",
              "    </div>\n",
              "  </div>\n",
              "  "
            ],
            "text/plain": [
              "     imdb_id  ... imdb_votes\n",
              "0  tt0147800  ...    283,945\n",
              "1  tt7019028  ...        124\n",
              "2  tt0115433  ...     97,785\n",
              "3  tt0324941  ...      7,434\n",
              "4  tt0211181  ...     33,444\n",
              "\n",
              "[5 rows x 19 columns]"
            ]
          },
          "metadata": {},
          "execution_count": 14
        }
      ]
    },
    {
      "cell_type": "code",
      "source": [
        "disney.columns"
      ],
      "metadata": {
        "colab": {
          "base_uri": "https://localhost:8080/"
        },
        "id": "90U6n1NX-SNO",
        "outputId": "c0a1d32c-312a-4a9d-f471-46bae9fee369"
      },
      "execution_count": null,
      "outputs": [
        {
          "output_type": "execute_result",
          "data": {
            "text/plain": [
              "Index(['imdb_id', 'title', 'plot', 'type', 'rated', 'year', 'released_at',\n",
              "       'added_at', 'runtime', 'genre', 'director', 'writer', 'actors',\n",
              "       'language', 'country', 'awards', 'metascore', 'imdb_rating',\n",
              "       'imdb_votes'],\n",
              "      dtype='object')"
            ]
          },
          "metadata": {},
          "execution_count": 15
        }
      ]
    },
    {
      "cell_type": "code",
      "source": [
        "print('Total titles',disney['title'].notnull().sum())\n",
        "print('Null titles',disney['title'].isnull().sum())\n",
        "print('Unique titles', disney['title'].nunique())"
      ],
      "metadata": {
        "colab": {
          "base_uri": "https://localhost:8080/"
        },
        "id": "GmUxlcU8-SKr",
        "outputId": "b19ead5b-e19a-4595-ebfa-c225de8135fe"
      },
      "execution_count": null,
      "outputs": [
        {
          "output_type": "stream",
          "name": "stdout",
          "text": [
            "Total titles 992\n",
            "Null titles 0\n",
            "Unique titles 872\n"
          ]
        }
      ]
    },
    {
      "cell_type": "code",
      "source": [
        "print('Total types',disney['type'].notnull().sum())\n",
        "print('Null types',disney['type'].isnull().sum())\n",
        "print('Unique types', disney['type'].nunique())\n",
        "print('Types: ', disney['type'].unique())"
      ],
      "metadata": {
        "colab": {
          "base_uri": "https://localhost:8080/"
        },
        "id": "iEio-PcI-SGO",
        "outputId": "0d4da60c-664f-4841-c1df-c94de0afa80c"
      },
      "execution_count": null,
      "outputs": [
        {
          "output_type": "stream",
          "name": "stdout",
          "text": [
            "Total types 992\n",
            "Null types 0\n",
            "Unique types 3\n",
            "Types:  ['movie' 'series' 'episode']\n"
          ]
        }
      ]
    },
    {
      "cell_type": "code",
      "source": [
        "print('Most frequent director', disney['director'].value_counts().idxmax())"
      ],
      "metadata": {
        "colab": {
          "base_uri": "https://localhost:8080/"
        },
        "id": "MjVAIEUv-SES",
        "outputId": "c9ed66ea-3b8b-46db-820a-a041538b467b"
      },
      "execution_count": null,
      "outputs": [
        {
          "output_type": "stream",
          "name": "stdout",
          "text": [
            "Most frequent director Jack Hannah\n"
          ]
        }
      ]
    },
    {
      "cell_type": "code",
      "source": [
        "print('Most common language', disney['language'].value_counts().idxmax())"
      ],
      "metadata": {
        "colab": {
          "base_uri": "https://localhost:8080/"
        },
        "id": "Nh09UXJHA1xL",
        "outputId": "a34f0dbb-bed9-40b2-a98e-2e9cfc6279ba"
      },
      "execution_count": null,
      "outputs": [
        {
          "output_type": "stream",
          "name": "stdout",
          "text": [
            "Most common language English\n"
          ]
        }
      ]
    },
    {
      "cell_type": "code",
      "source": [
        "print('Most common country', disney['country'].value_counts().idxmax())"
      ],
      "metadata": {
        "colab": {
          "base_uri": "https://localhost:8080/"
        },
        "id": "nvHHPmwKA1uC",
        "outputId": "d500635b-f902-42b4-9b4c-86be0bab8812"
      },
      "execution_count": null,
      "outputs": [
        {
          "output_type": "stream",
          "name": "stdout",
          "text": [
            "Most common country USA\n"
          ]
        }
      ]
    },
    {
      "cell_type": "code",
      "source": [
        "disney['metascore'].max()"
      ],
      "metadata": {
        "colab": {
          "base_uri": "https://localhost:8080/"
        },
        "id": "IcRO8RvWBKRi",
        "outputId": "6b963e50-5614-4ecd-bda2-ed0c79f15583"
      },
      "execution_count": null,
      "outputs": [
        {
          "output_type": "execute_result",
          "data": {
            "text/plain": [
              "99.0"
            ]
          },
          "metadata": {},
          "execution_count": 21
        }
      ]
    },
    {
      "cell_type": "code",
      "source": [
        "avg_score = round(disney['metascore'].mean(), 2)\n",
        "avg_score"
      ],
      "metadata": {
        "colab": {
          "base_uri": "https://localhost:8080/"
        },
        "id": "YgRl470fBKNy",
        "outputId": "0f310d78-074f-4683-f03f-47f3eb21e369"
      },
      "execution_count": null,
      "outputs": [
        {
          "output_type": "execute_result",
          "data": {
            "text/plain": [
              "61.5"
            ]
          },
          "metadata": {},
          "execution_count": 22
        }
      ]
    },
    {
      "cell_type": "code",
      "source": [
        "below_avg = disney[disney['metascore'] < avg_score]\n",
        "print('Number of below average shows', below_avg.value_counts().sum())\n",
        "below_avg['title']"
      ],
      "metadata": {
        "colab": {
          "base_uri": "https://localhost:8080/"
        },
        "id": "PU3BpXMPBKK1",
        "outputId": "4fa73446-b8ef-4c62-d5c2-b77014e785c2"
      },
      "execution_count": null,
      "outputs": [
        {
          "output_type": "stream",
          "name": "stdout",
          "text": [
            "Number of below average shows 524\n"
          ]
        },
        {
          "output_type": "execute_result",
          "data": {
            "text/plain": [
              "1                            101 Dalmatian Street\n",
              "2                                  101 Dalmatians\n",
              "3      101 Dalmatians 2: Patch's London Adventure\n",
              "4                                  102 Dalmatians\n",
              "8            A Celebration of the Music from Coco\n",
              "                          ...                    \n",
              "963                                   Wicked Tuna\n",
              "964                                        Willow\n",
              "965                                        Willow\n",
              "966                                        Willow\n",
              "967                                        Willow\n",
              "Name: title, Length: 524, dtype: object"
            ]
          },
          "metadata": {},
          "execution_count": 23
        }
      ]
    },
    {
      "cell_type": "code",
      "source": [
        "above_avg = disney[disney['metascore'] > avg_score]\n",
        "print('Number of above average shows', above_avg.value_counts().sum())\n",
        "above_avg['title']"
      ],
      "metadata": {
        "colab": {
          "base_uri": "https://localhost:8080/"
        },
        "id": "qg8YMFeaBsmd",
        "outputId": "dd085001-0533-4686-ff96-f66b6f4f6620"
      },
      "execution_count": null,
      "outputs": [
        {
          "output_type": "stream",
          "name": "stdout",
          "text": [
            "Number of above average shows 468\n"
          ]
        },
        {
          "output_type": "execute_result",
          "data": {
            "text/plain": [
              "0           10 Things I Hate About You\n",
              "5                12 Dates of Christmas\n",
              "6         20,000 Leagues Under the Sea\n",
              "7                         A Bug's Life\n",
              "16                             Aladdin\n",
              "                    ...               \n",
              "987                             Zapped\n",
              "988    Zenon: Girl of the 21st Century\n",
              "989                  Zenon: The Zequel\n",
              "990                          Zenon: Z3\n",
              "991                           Zootopia\n",
              "Name: title, Length: 468, dtype: object"
            ]
          },
          "metadata": {},
          "execution_count": 24
        }
      ]
    },
    {
      "cell_type": "code",
      "source": [
        "df = pd.DataFrame({\n",
        "    'data': disney['metascore'],\n",
        "    'mean': disney['metascore'].mean(),\n",
        "    'standard dev U': disney['metascore'].mean() + np.std(disney['metascore']),\n",
        "    'standard dev L': disney['metascore'].mean() - np.std(disney['metascore'])\n",
        "})\n",
        "df.plot()\n",
        "plt.show()"
      ],
      "metadata": {
        "colab": {
          "base_uri": "https://localhost:8080/",
          "height": 265
        },
        "id": "B_xaGnbNBsjo",
        "outputId": "14d2106a-82d9-47d6-eb19-1eb3b123595f"
      },
      "execution_count": null,
      "outputs": [
        {
          "output_type": "display_data",
          "data": {
            "image/png": "[encoded data removed]",
            "text/plain": [
              "<Figure size 432x288 with 1 Axes>"
            ]
          },
          "metadata": {
            "needs_background": "light"
          }
        }
      ]
    },
    {
      "cell_type": "markdown",
      "source": [
        "# **Netflix Data**"
      ],
      "metadata": {
        "id": "yxoooJIrtwlr"
      }
    },
    {
      "cell_type": "code",
      "source": [
        "netflix.head()"
      ],
      "metadata": {
        "id": "BLPhoX30mZRu",
        "colab": {
          "base_uri": "https://localhost:8080/",
          "height": 510
        },
        "outputId": "5f67b919-c606-45d7-ddf4-80eeffef3ba6"
      },
      "execution_count": null,
      "outputs": [
        {
          "output_type": "execute_result",
          "data": {
            "text/html": [
              "\n",
              "  <div id=\"df-a4289b4a-5b96-4f6c-9b7e-335e4aabe14b\">\n",
              "    <div class=\"colab-df-container\">\n",
              "      <div>\n",
              "<style scoped>\n",
              "    .dataframe tbody tr th:only-of-type {\n",
              "        vertical-align: middle;\n",
              "    }\n",
              "\n",
              "    .dataframe tbody tr th {\n",
              "        vertical-align: top;\n",
              "    }\n",
              "\n",
              "    .dataframe thead th {\n",
              "        text-align: right;\n",
              "    }\n",
              "</style>\n",
              "<table border=\"1\" class=\"dataframe\">\n",
              "  <thead>\n",
              "    <tr style=\"text-align: right;\">\n",
              "      <th></th>\n",
              "      <th>show_id</th>\n",
              "      <th>type</th>\n",
              "      <th>title</th>\n",
              "      <th>director</th>\n",
              "      <th>cast</th>\n",
              "      <th>country</th>\n",
              "      <th>date_added</th>\n",
              "      <th>release_year</th>\n",
              "      <th>rating</th>\n",
              "      <th>duration</th>\n",
              "      <th>listed_in</th>\n",
              "      <th>description</th>\n",
              "    </tr>\n",
              "  </thead>\n",
              "  <tbody>\n",
              "    <tr>\n",
              "      <th>0</th>\n",
              "      <td>s1</td>\n",
              "      <td>Movie</td>\n",
              "      <td>Dick Johnson Is Dead</td>\n",
              "      <td>Kirsten Johnson</td>\n",
              "      <td>Ama Qamata, Khosi Ngema, Gail Mabalane, Thaban...</td>\n",
              "      <td>United States</td>\n",
              "      <td>September 25, 2021</td>\n",
              "      <td>2020</td>\n",
              "      <td>PG-13</td>\n",
              "      <td>90 min</td>\n",
              "      <td>Documentaries</td>\n",
              "      <td>As her father nears the end of his life, filmm...</td>\n",
              "    </tr>\n",
              "    <tr>\n",
              "      <th>1</th>\n",
              "      <td>s2</td>\n",
              "      <td>TV Show</td>\n",
              "      <td>Blood &amp; Water</td>\n",
              "      <td>Julien Leclercq</td>\n",
              "      <td>Ama Qamata, Khosi Ngema, Gail Mabalane, Thaban...</td>\n",
              "      <td>South Africa</td>\n",
              "      <td>September 24, 2021</td>\n",
              "      <td>2021</td>\n",
              "      <td>TV-MA</td>\n",
              "      <td>2 Seasons</td>\n",
              "      <td>International TV Shows, TV Dramas, TV Mysteries</td>\n",
              "      <td>After crossing paths at a party, a Cape Town t...</td>\n",
              "    </tr>\n",
              "    <tr>\n",
              "      <th>2</th>\n",
              "      <td>s3</td>\n",
              "      <td>TV Show</td>\n",
              "      <td>Ganglands</td>\n",
              "      <td>Julien Leclercq</td>\n",
              "      <td>Sami Bouajila, Tracy Gotoas, Samuel Jouy, Nabi...</td>\n",
              "      <td>India</td>\n",
              "      <td>September 24, 2021</td>\n",
              "      <td>2021</td>\n",
              "      <td>TV-MA</td>\n",
              "      <td>1 Season</td>\n",
              "      <td>Crime TV Shows, International TV Shows, TV Act...</td>\n",
              "      <td>To protect his family from a powerful drug lor...</td>\n",
              "    </tr>\n",
              "    <tr>\n",
              "      <th>3</th>\n",
              "      <td>s4</td>\n",
              "      <td>TV Show</td>\n",
              "      <td>Jailbirds New Orleans</td>\n",
              "      <td>Mike Flanagan</td>\n",
              "      <td>Mayur More, Jitendra Kumar, Ranjan Raj, Alam K...</td>\n",
              "      <td>India</td>\n",
              "      <td>September 24, 2021</td>\n",
              "      <td>2021</td>\n",
              "      <td>TV-MA</td>\n",
              "      <td>1 Season</td>\n",
              "      <td>Docuseries, Reality TV</td>\n",
              "      <td>Feuds, flirtations and toilet talk go down amo...</td>\n",
              "    </tr>\n",
              "    <tr>\n",
              "      <th>4</th>\n",
              "      <td>s5</td>\n",
              "      <td>TV Show</td>\n",
              "      <td>Kota Factory</td>\n",
              "      <td>Mike Flanagan</td>\n",
              "      <td>Mayur More, Jitendra Kumar, Ranjan Raj, Alam K...</td>\n",
              "      <td>India</td>\n",
              "      <td>September 24, 2021</td>\n",
              "      <td>2021</td>\n",
              "      <td>TV-MA</td>\n",
              "      <td>2 Seasons</td>\n",
              "      <td>International TV Shows, Romantic TV Shows, TV ...</td>\n",
              "      <td>In a city of coaching centers known to train I...</td>\n",
              "    </tr>\n",
              "  </tbody>\n",
              "</table>\n",
              "</div>\n",
              "      <button class=\"colab-df-convert\" onclick=\"convertToInteractive('df-a4289b4a-5b96-4f6c-9b7e-335e4aabe14b')\"\n",
              "              title=\"Convert this dataframe to an interactive table.\"\n",
              "              style=\"display:none;\">\n",
              "        \n",
              "  <svg xmlns=\"http://www.w3.org/2000/svg\" height=\"24px\"viewBox=\"0 0 24 24\"\n",
              "       width=\"24px\">\n",
              "    <path d=\"M0 0h24v24H0V0z\" fill=\"none\"/>\n",
              "    <path d=\"M18.56 5.44l.94 2.06.94-2.06 2.06-.94-2.06-.94-.94-2.06-.94 2.06-2.06.94zm-11 1L8.5 8.5l.94-2.06 2.06-.94-2.06-.94L8.5 2.5l-.94 2.06-2.06.94zm10 10l.94 2.06.94-2.06 2.06-.94-2.06-.94-.94-2.06-.94 2.06-2.06.94z\"/><path d=\"M17.41 7.96l-1.37-1.37c-.4-.4-.92-.59-1.43-.59-.52 0-1.04.2-1.43.59L10.3 9.45l-7.72 7.72c-.78.78-.78 2.05 0 2.83L4 21.41c.39.39.9.59 1.41.59.51 0 1.02-.2 1.41-.59l7.78-7.78 2.81-2.81c.8-.78.8-2.07 0-2.86zM5.41 20L4 18.59l7.72-7.72 1.47 1.35L5.41 20z\"/>\n",
              "  </svg>\n",
              "      </button>\n",
              "      \n",
              "  <style>\n",
              "    .colab-df-container {\n",
              "      display:flex;\n",
              "      flex-wrap:wrap;\n",
              "      gap: 12px;\n",
              "    }\n",
              "\n",
              "    .colab-df-convert {\n",
              "      background-color: #E8F0FE;\n",
              "      border: none;\n",
              "      border-radius: 50%;\n",
              "      cursor: pointer;\n",
              "      display: none;\n",
              "      fill: #1967D2;\n",
              "      height: 32px;\n",
              "      padding: 0 0 0 0;\n",
              "      width: 32px;\n",
              "    }\n",
              "\n",
              "    .colab-df-convert:hover {\n",
              "      background-color: #E2EBFA;\n",
              "      box-shadow: 0px 1px 2px rgba(60, 64, 67, 0.3), 0px 1px 3px 1px rgba(60, 64, 67, 0.15);\n",
              "      fill: #174EA6;\n",
              "    }\n",
              "\n",
              "    [theme=dark] .colab-df-convert {\n",
              "      background-color: #3B4455;\n",
              "      fill: #D2E3FC;\n",
              "    }\n",
              "\n",
              "    [theme=dark] .colab-df-convert:hover {\n",
              "      background-color: #434B5C;\n",
              "      box-shadow: 0px 1px 3px 1px rgba(0, 0, 0, 0.15);\n",
              "      filter: drop-shadow(0px 1px 2px rgba(0, 0, 0, 0.3));\n",
              "      fill: #FFFFFF;\n",
              "    }\n",
              "  </style>\n",
              "\n",
              "      <script>\n",
              "        const buttonEl =\n",
              "          document.querySelector('#df-a4289b4a-5b96-4f6c-9b7e-335e4aabe14b button.colab-df-convert');\n",
              "        buttonEl.style.display =\n",
              "          google.colab.kernel.accessAllowed ? 'block' : 'none';\n",
              "\n",
              "        async function convertToInteractive(key) {\n",
              "          const element = document.querySelector('#df-a4289b4a-5b96-4f6c-9b7e-335e4aabe14b');\n",
              "          const dataTable =\n",
              "            await google.colab.kernel.invokeFunction('convertToInteractive',\n",
              "                                                     [key], {});\n",
              "          if (!dataTable) return;\n",
              "\n",
              "          const docLinkHtml = 'Like what you see? Visit the ' +\n",
              "            '<a target=\"_blank\" href=https://colab.research.google.com/notebooks/data_table.ipynb>data table notebook</a>'\n",
              "            + ' to learn more about interactive tables.';\n",
              "          element.innerHTML = '';\n",
              "          dataTable['output_type'] = 'display_data';\n",
              "          await google.colab.output.renderOutput(dataTable, element);\n",
              "          const docLink = document.createElement('div');\n",
              "          docLink.innerHTML = docLinkHtml;\n",
              "          element.appendChild(docLink);\n",
              "        }\n",
              "      </script>\n",
              "    </div>\n",
              "  </div>\n",
              "  "
            ],
            "text/plain": [
              "  show_id  ...                                        description\n",
              "0      s1  ...  As her father nears the end of his life, filmm...\n",
              "1      s2  ...  After crossing paths at a party, a Cape Town t...\n",
              "2      s3  ...  To protect his family from a powerful drug lor...\n",
              "3      s4  ...  Feuds, flirtations and toilet talk go down amo...\n",
              "4      s5  ...  In a city of coaching centers known to train I...\n",
              "\n",
              "[5 rows x 12 columns]"
            ]
          },
          "metadata": {},
          "execution_count": 26
        }
      ]
    },
    {
      "cell_type": "code",
      "source": [
        "netflix.info()#displays the non-null values count and datatypes"
      ],
      "metadata": {
        "colab": {
          "base_uri": "https://localhost:8080/"
        },
        "id": "XYOZ6nhCrNhg",
        "outputId": "73f7c9d6-ae4f-40c8-c2c3-9d9a05ddb745"
      },
      "execution_count": null,
      "outputs": [
        {
          "output_type": "stream",
          "name": "stdout",
          "text": [
            "<class 'pandas.core.frame.DataFrame'>\n",
            "RangeIndex: 8807 entries, 0 to 8806\n",
            "Data columns (total 12 columns):\n",
            " #   Column        Non-Null Count  Dtype \n",
            "---  ------        --------------  ----- \n",
            " 0   show_id       8807 non-null   object\n",
            " 1   type          8807 non-null   object\n",
            " 2   title         8807 non-null   object\n",
            " 3   director      8807 non-null   object\n",
            " 4   cast          8807 non-null   object\n",
            " 5   country       8807 non-null   object\n",
            " 6   date_added    8807 non-null   object\n",
            " 7   release_year  8807 non-null   int64 \n",
            " 8   rating        8807 non-null   object\n",
            " 9   duration      8807 non-null   object\n",
            " 10  listed_in     8807 non-null   object\n",
            " 11  description   8807 non-null   object\n",
            "dtypes: int64(1), object(11)\n",
            "memory usage: 825.8+ KB\n"
          ]
        }
      ]
    },
    {
      "cell_type": "code",
      "source": [
        "netflix.release_year.plot(kind=\"hist\",bins=50,figsize=(10,10))\n",
        "plt.show"
      ],
      "metadata": {
        "colab": {
          "base_uri": "https://localhost:8080/",
          "height": 610
        },
        "id": "9gaoRq0KrU4B",
        "outputId": "72c99511-1c76-4553-ebeb-487794696059"
      },
      "execution_count": null,
      "outputs": [
        {
          "output_type": "execute_result",
          "data": {
            "text/plain": [
              "<function matplotlib.pyplot.show>"
            ]
          },
          "metadata": {},
          "execution_count": 28
        },
        {
          "output_type": "display_data",
          "data": {
            "image/png": "[encoded data removed]",
            "text/plain": [
              "<Figure size 720x720 with 1 Axes>"
            ]
          },
          "metadata": {
            "needs_background": "light"
          }
        }
      ]
    },
    {
      "cell_type": "code",
      "source": [
        "netflix_m = netflix[netflix['type'] == \"Movie\"]"
      ],
      "metadata": {
        "id": "4sBHYg12rnRw"
      },
      "execution_count": null,
      "outputs": []
    },
    {
      "cell_type": "code",
      "source": [
        "netflix_m.shape"
      ],
      "metadata": {
        "colab": {
          "base_uri": "https://localhost:8080/"
        },
        "id": "PjGy5O-7rv56",
        "outputId": "af8a802b-e674-4600-ed34-ec1af90286d0"
      },
      "execution_count": null,
      "outputs": [
        {
          "output_type": "execute_result",
          "data": {
            "text/plain": [
              "(6131, 12)"
            ]
          },
          "metadata": {},
          "execution_count": 30
        }
      ]
    },
    {
      "cell_type": "code",
      "source": [
        "netflix_t = netflix[netflix['type'] == \"TV Show\"]"
      ],
      "metadata": {
        "id": "CCjLEceZr2IU"
      },
      "execution_count": null,
      "outputs": []
    },
    {
      "cell_type": "code",
      "source": [
        "netflix_t.shape"
      ],
      "metadata": {
        "colab": {
          "base_uri": "https://localhost:8080/"
        },
        "id": "2wgv-SB6r-Q2",
        "outputId": "d863562f-3b98-4790-fa22-800d29550635"
      },
      "execution_count": null,
      "outputs": [
        {
          "output_type": "execute_result",
          "data": {
            "text/plain": [
              "(2676, 12)"
            ]
          },
          "metadata": {},
          "execution_count": 32
        }
      ]
    },
    {
      "cell_type": "code",
      "source": [
        "!pip install pywaffle\n",
        "from pywaffle import Waffle"
      ],
      "metadata": {
        "colab": {
          "base_uri": "https://localhost:8080/"
        },
        "id": "StwZqxk0sDOE",
        "outputId": "5fc2c46e-fd72-4281-c51c-5070c45c2aec"
      },
      "execution_count": null,
      "outputs": [
        {
          "output_type": "stream",
          "name": "stdout",
          "text": [
            "Collecting pywaffle\n",
            "  Downloading pywaffle-0.6.4-py2.py3-none-any.whl (565 kB)\n",
            "\u001b[?25l\r\u001b[K     |▋                               | 10 kB 24.4 MB/s eta 0:00:01\r\u001b[K     |█▏                              | 20 kB 11.7 MB/s eta 0:00:01\r\u001b[K     |█▊                              | 30 kB 8.8 MB/s eta 0:00:01\r\u001b[K     |██▎                             | 40 kB 3.9 MB/s eta 0:00:01\r\u001b[K     |███                             | 51 kB 3.6 MB/s eta 0:00:01\r\u001b[K     |███▌                            | 61 kB 4.3 MB/s eta 0:00:01\r\u001b[K     |████                            | 71 kB 4.6 MB/s eta 0:00:01\r\u001b[K     |████▋                           | 81 kB 4.6 MB/s eta 0:00:01\r\u001b[K     |█████▏                          | 92 kB 5.1 MB/s eta 0:00:01\r\u001b[K     |█████▉                          | 102 kB 4.4 MB/s eta 0:00:01\r\u001b[K     |██████▍                         | 112 kB 4.4 MB/s eta 0:00:01\r\u001b[K     |███████                         | 122 kB 4.4 MB/s eta 0:00:01\r\u001b[K     |███████▌                        | 133 kB 4.4 MB/s eta 0:00:01\r\u001b[K     |████████                        | 143 kB 4.4 MB/s eta 0:00:01\r\u001b[K     |████████▊                       | 153 kB 4.4 MB/s eta 0:00:01\r\u001b[K     |█████████▎                      | 163 kB 4.4 MB/s eta 0:00:01\r\u001b[K     |█████████▉                      | 174 kB 4.4 MB/s eta 0:00:01\r\u001b[K     |██████████▍                     | 184 kB 4.4 MB/s eta 0:00:01\r\u001b[K     |███████████                     | 194 kB 4.4 MB/s eta 0:00:01\r\u001b[K     |███████████▋                    | 204 kB 4.4 MB/s eta 0:00:01\r\u001b[K     |████████████▏                   | 215 kB 4.4 MB/s eta 0:00:01\r\u001b[K     |████████████▊                   | 225 kB 4.4 MB/s eta 0:00:01\r\u001b[K     |█████████████▎                  | 235 kB 4.4 MB/s eta 0:00:01\r\u001b[K     |██████████████                  | 245 kB 4.4 MB/s eta 0:00:01\r\u001b[K     |██████████████▌                 | 256 kB 4.4 MB/s eta 0:00:01\r\u001b[K     |███████████████                 | 266 kB 4.4 MB/s eta 0:00:01\r\u001b[K     |███████████████▋                | 276 kB 4.4 MB/s eta 0:00:01\r\u001b[K     |████████████████▏               | 286 kB 4.4 MB/s eta 0:00:01\r\u001b[K     |████████████████▉               | 296 kB 4.4 MB/s eta 0:00:01\r\u001b[K     |█████████████████▍              | 307 kB 4.4 MB/s eta 0:00:01\r\u001b[K     |██████████████████              | 317 kB 4.4 MB/s eta 0:00:01\r\u001b[K     |██████████████████▌             | 327 kB 4.4 MB/s eta 0:00:01\r\u001b[K     |███████████████████             | 337 kB 4.4 MB/s eta 0:00:01\r\u001b[K     |███████████████████▊            | 348 kB 4.4 MB/s eta 0:00:01\r\u001b[K     |████████████████████▎           | 358 kB 4.4 MB/s eta 0:00:01\r\u001b[K     |████████████████████▉           | 368 kB 4.4 MB/s eta 0:00:01\r\u001b[K     |█████████████████████▍          | 378 kB 4.4 MB/s eta 0:00:01\r\u001b[K     |██████████████████████          | 389 kB 4.4 MB/s eta 0:00:01\r\u001b[K     |██████████████████████▋         | 399 kB 4.4 MB/s eta 0:00:01\r\u001b[K     |███████████████████████▏        | 409 kB 4.4 MB/s eta 0:00:01\r\u001b[K     |███████████████████████▊        | 419 kB 4.4 MB/s eta 0:00:01\r\u001b[K     |████████████████████████▎       | 430 kB 4.4 MB/s eta 0:00:01\r\u001b[K     |█████████████████████████       | 440 kB 4.4 MB/s eta 0:00:01\r\u001b[K     |█████████████████████████▌      | 450 kB 4.4 MB/s eta 0:00:01\r\u001b[K     |██████████████████████████      | 460 kB 4.4 MB/s eta 0:00:01\r\u001b[K     |██████████████████████████▋     | 471 kB 4.4 MB/s eta 0:00:01\r\u001b[K     |███████████████████████████▏    | 481 kB 4.4 MB/s eta 0:00:01\r\u001b[K     |███████████████████████████▉    | 491 kB 4.4 MB/s eta 0:00:01\r\u001b[K     |████████████████████████████▍   | 501 kB 4.4 MB/s eta 0:00:01\r\u001b[K     |█████████████████████████████   | 512 kB 4.4 MB/s eta 0:00:01\r\u001b[K     |█████████████████████████████▌  | 522 kB 4.4 MB/s eta 0:00:01\r\u001b[K     |██████████████████████████████▏ | 532 kB 4.4 MB/s eta 0:00:01\r\u001b[K     |██████████████████████████████▊ | 542 kB 4.4 MB/s eta 0:00:01\r\u001b[K     |███████████████████████████████▎| 552 kB 4.4 MB/s eta 0:00:01\r\u001b[K     |███████████████████████████████▉| 563 kB 4.4 MB/s eta 0:00:01\r\u001b[K     |████████████████████████████████| 565 kB 4.4 MB/s \n",
            "\u001b[?25hRequirement already satisfied: matplotlib in /usr/local/lib/python3.7/dist-packages (from pywaffle) (3.2.2)\n",
            "Requirement already satisfied: python-dateutil>=2.1 in /usr/local/lib/python3.7/dist-packages (from matplotlib->pywaffle) (2.8.2)\n",
            "Requirement already satisfied: numpy>=1.11 in /usr/local/lib/python3.7/dist-packages (from matplotlib->pywaffle) (1.19.5)\n",
            "Requirement already satisfied: pyparsing!=2.0.4,!=2.1.2,!=2.1.6,>=2.0.1 in /usr/local/lib/python3.7/dist-packages (from matplotlib->pywaffle) (3.0.7)\n",
            "Requirement already satisfied: cycler>=0.10 in /usr/local/lib/python3.7/dist-packages (from matplotlib->pywaffle) (0.11.0)\n",
            "Requirement already satisfied: kiwisolver>=1.0.1 in /usr/local/lib/python3.7/dist-packages (from matplotlib->pywaffle) (1.3.2)\n",
            "Requirement already satisfied: six>=1.5 in /usr/local/lib/python3.7/dist-packages (from python-dateutil>=2.1->matplotlib->pywaffle) (1.15.0)\n",
            "Installing collected packages: pywaffle\n",
            "Successfully installed pywaffle-0.6.4\n"
          ]
        }
      ]
    },
    {
      "cell_type": "code",
      "source": [
        "tot_df = 8807\n",
        "num_m = 6131\n",
        "num_t = 2676"
      ],
      "metadata": {
        "id": "poofaZPmsJfN"
      },
      "execution_count": null,
      "outputs": []
    },
    {
      "cell_type": "code",
      "source": [
        "perc_films = num_m / tot_df * 100\n",
        "print(perc_films)"
      ],
      "metadata": {
        "colab": {
          "base_uri": "https://localhost:8080/"
        },
        "id": "FDZvGctGsUuy",
        "outputId": "08c4a648-797b-4336-8f3a-143b6175cb95"
      },
      "execution_count": null,
      "outputs": [
        {
          "output_type": "stream",
          "name": "stdout",
          "text": [
            "69.61507891449983\n"
          ]
        }
      ]
    },
    {
      "cell_type": "code",
      "source": [
        "perc_tvs = num_t / tot_df * 100\n",
        "print(perc_tvs)"
      ],
      "metadata": {
        "colab": {
          "base_uri": "https://localhost:8080/"
        },
        "id": "JIeEwR12sY6B",
        "outputId": "f3de17c2-d369-428a-eea7-e85ea9a1bd40"
      },
      "execution_count": null,
      "outputs": [
        {
          "output_type": "stream",
          "name": "stdout",
          "text": [
            "30.38492108550017\n"
          ]
        }
      ]
    },
    {
      "cell_type": "code",
      "source": [
        "data = {'Movies': 69.62, 'TV Shows': 30.38}\n",
        "fig = plt.figure(\n",
        "    FigureClass=Waffle,\n",
        "    rows=10,\n",
        "    values=data,\n",
        "    colors=(\"#006400\", \"#A9A9A9\"),\n",
        "    title={'label': 'Percentage of Films and TV Shows in the catalogue', 'loc': 'left'},\n",
        "    labels=[\"{0} ({1}%)\".format(k, v) for k, v in data.items()],\n",
        "    legend={'loc': 'lower left', 'bbox_to_anchor': (0, -0.4), 'ncol': len(data), 'framealpha': 0}\n",
        ")\n",
        "fig.gca().set_facecolor(\"#ffffff\")\n",
        "fig.set_facecolor(\"#ffffff\")\n",
        "plt.show()"
      ],
      "metadata": {
        "colab": {
          "base_uri": "https://localhost:8080/",
          "height": 278
        },
        "id": "sILyzM5Ps518",
        "outputId": "5ae347c8-bb77-4b33-ebac-b929c5652af1"
      },
      "execution_count": null,
      "outputs": [
        {
          "output_type": "display_data",
          "data": {
            "image/png": "[encoded data removed]",
            "text/plain": [
              "<Waffle size 432x288 with 1 Axes>"
            ]
          },
          "metadata": {}
        }
      ]
    },
    {
      "cell_type": "markdown",
      "source": [
        "# **Amazon Prime Dataset**"
      ],
      "metadata": {
        "id": "2MsL-33ndg7-"
      }
    },
    {
      "cell_type": "markdown",
      "source": [
        "### **Columns: finding isnull(), notnull(), nunique() values of the columns and ploting them using stacked bar graph**"
      ],
      "metadata": {
        "id": "siUB8kJDeNGH"
      }
    },
    {
      "cell_type": "code",
      "source": [
        "#Type\n",
        "type_nonmissing= amazon['type'].notnull().sum()\n",
        "type_missing =amazon['type'].isnull().sum()\n",
        "t_unique = amazon['type'].nunique()\n",
        "\n",
        "print(type_nonmissing)\n",
        "print(type_missing)\n",
        "print(t_unique)"
      ],
      "metadata": {
        "colab": {
          "base_uri": "https://localhost:8080/"
        },
        "id": "DJeQ1naVdp3Z",
        "outputId": "b497898d-f25c-40f2-848e-9f88cb2a13b9"
      },
      "execution_count": null,
      "outputs": [
        {
          "output_type": "stream",
          "name": "stdout",
          "text": [
            "9668\n",
            "0\n",
            "2\n"
          ]
        }
      ]
    },
    {
      "cell_type": "code",
      "source": [
        "#title \n",
        "title_nonmissing = amazon['title'].notnull().sum()\n",
        "title_missing = amazon['title'].isnull().sum()\n",
        "title_unique = amazon['title'].nunique()\n",
        "\n",
        "\n",
        "print(title_nonmissing)\n",
        "print(title_missing)\n",
        "print(title_unique)"
      ],
      "metadata": {
        "colab": {
          "base_uri": "https://localhost:8080/"
        },
        "id": "DYD6NylOeVB_",
        "outputId": "bfa9603d-6cd3-4b0e-ca3e-04a7a9e3ae71"
      },
      "execution_count": null,
      "outputs": [
        {
          "output_type": "stream",
          "name": "stdout",
          "text": [
            "9668\n",
            "0\n",
            "9668\n"
          ]
        }
      ]
    },
    {
      "cell_type": "code",
      "source": [
        "#director\n",
        "director_nm=amazon['director'].notnull().sum()\n",
        "director_m = amazon['director'].isnull().sum()\n",
        "d_unique = amazon['director'].nunique()\n",
        "\n",
        "print(director_nm)\n",
        "print(director_m)\n",
        "print(d_unique)"
      ],
      "metadata": {
        "colab": {
          "base_uri": "https://localhost:8080/"
        },
        "id": "cK0ynsk8eVE8",
        "outputId": "588c923e-efb9-4291-bc74-8b2fee76d8ad"
      },
      "execution_count": null,
      "outputs": [
        {
          "output_type": "stream",
          "name": "stdout",
          "text": [
            "9668\n",
            "0\n",
            "5774\n"
          ]
        }
      ]
    },
    {
      "cell_type": "code",
      "source": [
        "#country\n",
        "country_nm =amazon['country'].notnull().sum()\n",
        "counrty_m = amazon['country'].isnull().sum()\n",
        "c_unique = amazon['country'].nunique()\n",
        "\n",
        "print(country_nm)\n",
        "print(counrty_m)\n",
        "print(c_unique)"
      ],
      "metadata": {
        "colab": {
          "base_uri": "https://localhost:8080/"
        },
        "id": "uKoshS4qeVOc",
        "outputId": "d2caba33-d2ab-4dfc-9da9-f0cc343dbaa0"
      },
      "execution_count": null,
      "outputs": [
        {
          "output_type": "stream",
          "name": "stdout",
          "text": [
            "9645\n",
            "23\n",
            "86\n"
          ]
        }
      ]
    },
    {
      "cell_type": "code",
      "source": [
        "#rating\n",
        "rating_nm = amazon['rating'].notnull().sum()\n",
        "rating_m = amazon['rating'].isnull().sum()\n",
        "r_unique = amazon['rating'].nunique()\n",
        "\n",
        "print(rating_nm)\n",
        "print(rating_m)\n",
        "print(r_unique)"
      ],
      "metadata": {
        "colab": {
          "base_uri": "https://localhost:8080/"
        },
        "id": "3g34F2wIeq0L",
        "outputId": "dcd21993-069e-4a54-8179-9b5c947825ad"
      },
      "execution_count": null,
      "outputs": [
        {
          "output_type": "stream",
          "name": "stdout",
          "text": [
            "9668\n",
            "0\n",
            "24\n"
          ]
        }
      ]
    },
    {
      "cell_type": "code",
      "source": [
        "x = [\"Type\",\"Title\",\"Director\",\"Country\",\"Rating\"]\n",
        "\n",
        "non_missing = [9668,9668,7586,672,9331]\n",
        "missing = [0,0,2082,8996,337]\n",
        "unique = [2,9668,5774,86,24]\n",
        "\n",
        "b_unique = list(np.add(non_missing,missing))\n",
        "\n",
        "plt.bar(x,non_missing,0.4,label='Valid')\n",
        "plt.bar(x,missing,0.4,bottom = non_missing,label='Missing')\n",
        "plt.bar(x,unique,0.4,bottom =b_unique ,label='Unique')\n",
        "\n",
        "plt.xlabel(\"Columns\")\n",
        "plt.legend()\n",
        "plt.show()"
      ],
      "metadata": {
        "colab": {
          "base_uri": "https://localhost:8080/",
          "height": 280
        },
        "id": "kM37wqS5exPh",
        "outputId": "a458a5a2-f5ba-4c73-f990-1fca34905845"
      },
      "execution_count": null,
      "outputs": [
        {
          "output_type": "display_data",
          "data": {
            "image/png": "[encoded data removed]",
            "text/plain": [
              "<Figure size 432x288 with 1 Axes>"
            ]
          },
          "metadata": {
            "needs_background": "light"
          }
        }
      ]
    },
    {
      "cell_type": "markdown",
      "source": [
        "### **Distribution of Content**"
      ],
      "metadata": {
        "id": "buYZsF9kgRC6"
      }
    },
    {
      "cell_type": "code",
      "source": [
        "z = amazon.groupby(['rating']).size().reset_index(name='counts')\n",
        "pieChart = px.pie(z, values='counts', names='rating', \n",
        "                  title='Distribution of Content Ratings on Amazon Prime',\n",
        "                  color_discrete_sequence=px.colors.qualitative.Set3)\n",
        "pieChart.show()"
      ],
      "metadata": {
        "colab": {
          "base_uri": "https://localhost:8080/",
          "height": 542
        },
        "id": "kKzhJEwcgdEv",
        "outputId": "fa7280ac-cf6b-409a-8d21-f6326dde4a57"
      },
      "execution_count": null,
      "outputs": [
        {
          "output_type": "display_data",
          "data": {
            "text/html": [
              "<html>\n",
              "<head><meta charset=\"utf-8\" /></head>\n",
              "<body>\n",
              "    <div>            <script src=\"https://cdnjs.cloudflare.com/ajax/libs/mathjax/2.7.5/MathJax.js?config=TeX-AMS-MML_SVG\"></script><script type=\"text/javascript\">if (window.MathJax) {MathJax.Hub.Config({SVG: {font: \"STIX-Web\"}});}</script>                <script type=\"text/javascript\">window.PlotlyConfig = {MathJaxConfig: 'local'};</script>\n",
              "        <script src=\"https://cdn.plot.ly/plotly-2.8.3.min.js\"></script>                <div id=\"74ddd85b-6fe3-4f90-bc19-089e49de2c7c\" class=\"plotly-graph-div\" style=\"height:525px; width:100%;\"></div>            <script type=\"text/javascript\">                                    window.PLOTLYENV=window.PLOTLYENV || {};                                    if (document.getElementById(\"74ddd85b-6fe3-4f90-bc19-089e49de2c7c\")) {                    Plotly.newPlot(                        \"74ddd85b-6fe3-4f90-bc19-089e49de2c7c\",                        [{\"domain\":{\"x\":[0.0,1.0],\"y\":[0.0,1.0]},\"hovertemplate\":\"rating=%{label}<br>counts=%{value}<extra></extra>\",\"labels\":[\"13+\",\"16\",\"16+\",\"18+\",\"7+\",\"AGES_16_\",\"AGES_18_\",\"ALL\",\"ALL_AGES\",\"G\",\"NC-17\",\"NOT_RATE\",\"NR\",\"PG\",\"PG-13\",\"R\",\"TV-14\",\"TV-G\",\"TV-MA\",\"TV-NR\",\"TV-PG\",\"TV-Y\",\"TV-Y7\",\"UNRATED\"],\"legendgroup\":\"\",\"name\":\"\",\"showlegend\":true,\"values\":[2199,1,1586,1292,392,3,3,1313,1,103,3,3,235,261,400,1035,217,84,81,118,180,82,43,33],\"type\":\"pie\"}],                        {\"template\":{\"data\":{\"bar\":[{\"error_x\":{\"color\":\"#2a3f5f\"},\"error_y\":{\"color\":\"#2a3f5f\"},\"marker\":{\"line\":{\"color\":\"#E5ECF6\",\"width\":0.5},\"pattern\":{\"fillmode\":\"overlay\",\"size\":10,\"solidity\":0.2}},\"type\":\"bar\"}],\"barpolar\":[{\"marker\":{\"line\":{\"color\":\"#E5ECF6\",\"width\":0.5},\"pattern\":{\"fillmode\":\"overlay\",\"size\":10,\"solidity\":0.2}},\"type\":\"barpolar\"}],\"carpet\":[{\"aaxis\":{\"endlinecolor\":\"#2a3f5f\",\"gridcolor\":\"white\",\"linecolor\":\"white\",\"minorgridcolor\":\"white\",\"startlinecolor\":\"#2a3f5f\"},\"baxis\":{\"endlinecolor\":\"#2a3f5f\",\"gridcolor\":\"white\",\"linecolor\":\"white\",\"minorgridcolor\":\"white\",\"startlinecolor\":\"#2a3f5f\"},\"type\":\"carpet\"}],\"choropleth\":[{\"colorbar\":{\"outlinewidth\":0,\"ticks\":\"\"},\"type\":\"choropleth\"}],\"contour\":[{\"colorbar\":{\"outlinewidth\":0,\"ticks\":\"\"},\"colorscale\":[[0.0,\"#0d0887\"],[0.1111111111111111,\"#46039f\"],[0.2222222222222222,\"#7201a8\"],[0.3333333333333333,\"#9c179e\"],[0.4444444444444444,\"#bd3786\"],[0.5555555555555556,\"#d8576b\"],[0.6666666666666666,\"#ed7953\"],[0.7777777777777778,\"#fb9f3a\"],[0.8888888888888888,\"#fdca26\"],[1.0,\"#f0f921\"]],\"type\":\"contour\"}],\"contourcarpet\":[{\"colorbar\":{\"outlinewidth\":0,\"ticks\":\"\"},\"type\":\"contourcarpet\"}],\"heatmap\":[{\"colorbar\":{\"outlinewidth\":0,\"ticks\":\"\"},\"colorscale\":[[0.0,\"#0d0887\"],[0.1111111111111111,\"#46039f\"],[0.2222222222222222,\"#7201a8\"],[0.3333333333333333,\"#9c179e\"],[0.4444444444444444,\"#bd3786\"],[0.5555555555555556,\"#d8576b\"],[0.6666666666666666,\"#ed7953\"],[0.7777777777777778,\"#fb9f3a\"],[0.8888888888888888,\"#fdca26\"],[1.0,\"#f0f921\"]],\"type\":\"heatmap\"}],\"heatmapgl\":[{\"colorbar\":{\"outlinewidth\":0,\"ticks\":\"\"},\"colorscale\":[[0.0,\"#0d0887\"],[0.1111111111111111,\"#46039f\"],[0.2222222222222222,\"#7201a8\"],[0.3333333333333333,\"#9c179e\"],[0.4444444444444444,\"#bd3786\"],[0.5555555555555556,\"#d8576b\"],[0.6666666666666666,\"#ed7953\"],[0.7777777777777778,\"#fb9f3a\"],[0.8888888888888888,\"#fdca26\"],[1.0,\"#f0f921\"]],\"type\":\"heatmapgl\"}],\"histogram\":[{\"marker\":{\"pattern\":{\"fillmode\":\"overlay\",\"size\":10,\"solidity\":0.2}},\"type\":\"histogram\"}],\"histogram2d\":[{\"colorbar\":{\"outlinewidth\":0,\"ticks\":\"\"},\"colorscale\":[[0.0,\"#0d0887\"],[0.1111111111111111,\"#46039f\"],[0.2222222222222222,\"#7201a8\"],[0.3333333333333333,\"#9c179e\"],[0.4444444444444444,\"#bd3786\"],[0.5555555555555556,\"#d8576b\"],[0.6666666666666666,\"#ed7953\"],[0.7777777777777778,\"#fb9f3a\"],[0.8888888888888888,\"#fdca26\"],[1.0,\"#f0f921\"]],\"type\":\"histogram2d\"}],\"histogram2dcontour\":[{\"colorbar\":{\"outlinewidth\":0,\"ticks\":\"\"},\"colorscale\":[[0.0,\"#0d0887\"],[0.1111111111111111,\"#46039f\"],[0.2222222222222222,\"#7201a8\"],[0.3333333333333333,\"#9c179e\"],[0.4444444444444444,\"#bd3786\"],[0.5555555555555556,\"#d8576b\"],[0.6666666666666666,\"#ed7953\"],[0.7777777777777778,\"#fb9f3a\"],[0.8888888888888888,\"#fdca26\"],[1.0,\"#f0f921\"]],\"type\":\"histogram2dcontour\"}],\"mesh3d\":[{\"colorbar\":{\"outlinewidth\":0,\"ticks\":\"\"},\"type\":\"mesh3d\"}],\"parcoords\":[{\"line\":{\"colorbar\":{\"outlinewidth\":0,\"ticks\":\"\"}},\"type\":\"parcoords\"}],\"pie\":[{\"automargin\":true,\"type\":\"pie\"}],\"scatter\":[{\"marker\":{\"colorbar\":{\"outlinewidth\":0,\"ticks\":\"\"}},\"type\":\"scatter\"}],\"scatter3d\":[{\"line\":{\"colorbar\":{\"outlinewidth\":0,\"ticks\":\"\"}},\"marker\":{\"colorbar\":{\"outlinewidth\":0,\"ticks\":\"\"}},\"type\":\"scatter3d\"}],\"scattercarpet\":[{\"marker\":{\"colorbar\":{\"outlinewidth\":0,\"ticks\":\"\"}},\"type\":\"scattercarpet\"}],\"scattergeo\":[{\"marker\":{\"colorbar\":{\"outlinewidth\":0,\"ticks\":\"\"}},\"type\":\"scattergeo\"}],\"scattergl\":[{\"marker\":{\"colorbar\":{\"outlinewidth\":0,\"ticks\":\"\"}},\"type\":\"scattergl\"}],\"scattermapbox\":[{\"marker\":{\"colorbar\":{\"outlinewidth\":0,\"ticks\":\"\"}},\"type\":\"scattermapbox\"}],\"scatterpolar\":[{\"marker\":{\"colorbar\":{\"outlinewidth\":0,\"ticks\":\"\"}},\"type\":\"scatterpolar\"}],\"scatterpolargl\":[{\"marker\":{\"colorbar\":{\"outlinewidth\":0,\"ticks\":\"\"}},\"type\":\"scatterpolargl\"}],\"scatterternary\":[{\"marker\":{\"colorbar\":{\"outlinewidth\":0,\"ticks\":\"\"}},\"type\":\"scatterternary\"}],\"surface\":[{\"colorbar\":{\"outlinewidth\":0,\"ticks\":\"\"},\"colorscale\":[[0.0,\"#0d0887\"],[0.1111111111111111,\"#46039f\"],[0.2222222222222222,\"#7201a8\"],[0.3333333333333333,\"#9c179e\"],[0.4444444444444444,\"#bd3786\"],[0.5555555555555556,\"#d8576b\"],[0.6666666666666666,\"#ed7953\"],[0.7777777777777778,\"#fb9f3a\"],[0.8888888888888888,\"#fdca26\"],[1.0,\"#f0f921\"]],\"type\":\"surface\"}],\"table\":[{\"cells\":{\"fill\":{\"color\":\"#EBF0F8\"},\"line\":{\"color\":\"white\"}},\"header\":{\"fill\":{\"color\":\"#C8D4E3\"},\"line\":{\"color\":\"white\"}},\"type\":\"table\"}]},\"layout\":{\"annotationdefaults\":{\"arrowcolor\":\"#2a3f5f\",\"arrowhead\":0,\"arrowwidth\":1},\"autotypenumbers\":\"strict\",\"coloraxis\":{\"colorbar\":{\"outlinewidth\":0,\"ticks\":\"\"}},\"colorscale\":{\"diverging\":[[0,\"#8e0152\"],[0.1,\"#c51b7d\"],[0.2,\"#de77ae\"],[0.3,\"#f1b6da\"],[0.4,\"#fde0ef\"],[0.5,\"#f7f7f7\"],[0.6,\"#e6f5d0\"],[0.7,\"#b8e186\"],[0.8,\"#7fbc41\"],[0.9,\"#4d9221\"],[1,\"#276419\"]],\"sequential\":[[0.0,\"#0d0887\"],[0.1111111111111111,\"#46039f\"],[0.2222222222222222,\"#7201a8\"],[0.3333333333333333,\"#9c179e\"],[0.4444444444444444,\"#bd3786\"],[0.5555555555555556,\"#d8576b\"],[0.6666666666666666,\"#ed7953\"],[0.7777777777777778,\"#fb9f3a\"],[0.8888888888888888,\"#fdca26\"],[1.0,\"#f0f921\"]],\"sequentialminus\":[[0.0,\"#0d0887\"],[0.1111111111111111,\"#46039f\"],[0.2222222222222222,\"#7201a8\"],[0.3333333333333333,\"#9c179e\"],[0.4444444444444444,\"#bd3786\"],[0.5555555555555556,\"#d8576b\"],[0.6666666666666666,\"#ed7953\"],[0.7777777777777778,\"#fb9f3a\"],[0.8888888888888888,\"#fdca26\"],[1.0,\"#f0f921\"]]},\"colorway\":[\"#636efa\",\"#EF553B\",\"#00cc96\",\"#ab63fa\",\"#FFA15A\",\"#19d3f3\",\"#FF6692\",\"#B6E880\",\"#FF97FF\",\"#FECB52\"],\"font\":{\"color\":\"#2a3f5f\"},\"geo\":{\"bgcolor\":\"white\",\"lakecolor\":\"white\",\"landcolor\":\"#E5ECF6\",\"showlakes\":true,\"showland\":true,\"subunitcolor\":\"white\"},\"hoverlabel\":{\"align\":\"left\"},\"hovermode\":\"closest\",\"mapbox\":{\"style\":\"light\"},\"paper_bgcolor\":\"white\",\"plot_bgcolor\":\"#E5ECF6\",\"polar\":{\"angularaxis\":{\"gridcolor\":\"white\",\"linecolor\":\"white\",\"ticks\":\"\"},\"bgcolor\":\"#E5ECF6\",\"radialaxis\":{\"gridcolor\":\"white\",\"linecolor\":\"white\",\"ticks\":\"\"}},\"scene\":{\"xaxis\":{\"backgroundcolor\":\"#E5ECF6\",\"gridcolor\":\"white\",\"gridwidth\":2,\"linecolor\":\"white\",\"showbackground\":true,\"ticks\":\"\",\"zerolinecolor\":\"white\"},\"yaxis\":{\"backgroundcolor\":\"#E5ECF6\",\"gridcolor\":\"white\",\"gridwidth\":2,\"linecolor\":\"white\",\"showbackground\":true,\"ticks\":\"\",\"zerolinecolor\":\"white\"},\"zaxis\":{\"backgroundcolor\":\"#E5ECF6\",\"gridcolor\":\"white\",\"gridwidth\":2,\"linecolor\":\"white\",\"showbackground\":true,\"ticks\":\"\",\"zerolinecolor\":\"white\"}},\"shapedefaults\":{\"line\":{\"color\":\"#2a3f5f\"}},\"ternary\":{\"aaxis\":{\"gridcolor\":\"white\",\"linecolor\":\"white\",\"ticks\":\"\"},\"baxis\":{\"gridcolor\":\"white\",\"linecolor\":\"white\",\"ticks\":\"\"},\"bgcolor\":\"#E5ECF6\",\"caxis\":{\"gridcolor\":\"white\",\"linecolor\":\"white\",\"ticks\":\"\"}},\"title\":{\"x\":0.05},\"xaxis\":{\"automargin\":true,\"gridcolor\":\"white\",\"linecolor\":\"white\",\"ticks\":\"\",\"title\":{\"standoff\":15},\"zerolinecolor\":\"white\",\"zerolinewidth\":2},\"yaxis\":{\"automargin\":true,\"gridcolor\":\"white\",\"linecolor\":\"white\",\"ticks\":\"\",\"title\":{\"standoff\":15},\"zerolinecolor\":\"white\",\"zerolinewidth\":2}}},\"legend\":{\"tracegroupgap\":0},\"title\":{\"text\":\"Distribution of Content Ratings on Amazon Prime\"},\"piecolorway\":[\"rgb(141,211,199)\",\"rgb(255,255,179)\",\"rgb(190,186,218)\",\"rgb(251,128,114)\",\"rgb(128,177,211)\",\"rgb(253,180,98)\",\"rgb(179,222,105)\",\"rgb(252,205,229)\",\"rgb(217,217,217)\",\"rgb(188,128,189)\",\"rgb(204,235,197)\",\"rgb(255,237,111)\"]},                        {\"responsive\": true}                    ).then(function(){\n",
              "                            \n",
              "var gd = document.getElementById('74ddd85b-6fe3-4f90-bc19-089e49de2c7c');\n",
              "var x = new MutationObserver(function (mutations, observer) {{\n",
              "        var display = window.getComputedStyle(gd).display;\n",
              "        if (!display || display === 'none') {{\n",
              "            console.log([gd, 'removed!']);\n",
              "            Plotly.purge(gd);\n",
              "            observer.disconnect();\n",
              "        }}\n",
              "}});\n",
              "\n",
              "// Listen for the removal of the full notebook cells\n",
              "var notebookContainer = gd.closest('#notebook-container');\n",
              "if (notebookContainer) {{\n",
              "    x.observe(notebookContainer, {childList: true});\n",
              "}}\n",
              "\n",
              "// Listen for the clearing of the current output cell\n",
              "var outputEl = gd.closest('.output');\n",
              "if (outputEl) {{\n",
              "    x.observe(outputEl, {childList: true});\n",
              "}}\n",
              "\n",
              "                        })                };                            </script>        </div>\n",
              "</body>\n",
              "</html>"
            ]
          },
          "metadata": {}
        }
      ]
    },
    {
      "cell_type": "markdown",
      "source": [
        "### **Analysing Content**"
      ],
      "metadata": {
        "id": "rYW6GDbtgqIr"
      }
    },
    {
      "cell_type": "code",
      "source": [
        "df1=amazon[['type','release_year']]\n",
        "df1=df1.rename(columns={\"release_year\": \"Release Year\"})\n",
        "df2=df1.groupby(['Release Year','type']).size().reset_index(name='Total Content')\n",
        "df2=df2[df2['Release Year']>=2010]\n",
        "fig3 = px.line(df2, x=\"Release Year\", y=\"Total Content\", color='type',title='Trend of content produced over the years on Amazon')\n",
        "fig3.show()"
      ],
      "metadata": {
        "colab": {
          "base_uri": "https://localhost:8080/",
          "height": 542
        },
        "id": "RBDZtSRHguaJ",
        "outputId": "2f8760b1-f13b-4256-f5d3-09d789e61ca2"
      },
      "execution_count": null,
      "outputs": [
        {
          "output_type": "display_data",
          "data": {
            "text/html": [
              "<html>\n",
              "<head><meta charset=\"utf-8\" /></head>\n",
              "<body>\n",
              "    <div>            <script src=\"https://cdnjs.cloudflare.com/ajax/libs/mathjax/2.7.5/MathJax.js?config=TeX-AMS-MML_SVG\"></script><script type=\"text/javascript\">if (window.MathJax) {MathJax.Hub.Config({SVG: {font: \"STIX-Web\"}});}</script>                <script type=\"text/javascript\">window.PlotlyConfig = {MathJaxConfig: 'local'};</script>\n",
              "        <script src=\"https://cdn.plot.ly/plotly-2.8.3.min.js\"></script>                <div id=\"76e3c7d1-b0c4-47f0-9d1f-8fd1f8b86ba5\" class=\"plotly-graph-div\" style=\"height:525px; width:100%;\"></div>            <script type=\"text/javascript\">                                    window.PLOTLYENV=window.PLOTLYENV || {};                                    if (document.getElementById(\"76e3c7d1-b0c4-47f0-9d1f-8fd1f8b86ba5\")) {                    Plotly.newPlot(                        \"76e3c7d1-b0c4-47f0-9d1f-8fd1f8b86ba5\",                        [{\"hovertemplate\":\"type=Movie<br>Release Year=%{x}<br>Total Content=%{y}<extra></extra>\",\"legendgroup\":\"Movie\",\"line\":{\"color\":\"#636efa\",\"dash\":\"solid\"},\"marker\":{\"symbol\":\"circle\"},\"mode\":\"lines\",\"name\":\"Movie\",\"orientation\":\"v\",\"showlegend\":true,\"x\":[2010,2011,2012,2013,2014,2015,2016,2017,2018,2019,2020,2021],\"xaxis\":\"x\",\"y\":[152,212,197,227,295,282,402,404,438,730,736,1139],\"yaxis\":\"y\",\"type\":\"scatter\"},{\"hovertemplate\":\"type=TV Show<br>Release Year=%{x}<br>Total Content=%{y}<extra></extra>\",\"legendgroup\":\"TV Show\",\"line\":{\"color\":\"#EF553B\",\"dash\":\"solid\"},\"marker\":{\"symbol\":\"circle\"},\"mode\":\"lines\",\"name\":\"TV Show\",\"orientation\":\"v\",\"showlegend\":true,\"x\":[2010,2011,2012,2013,2014,2015,2016,2017,2018,2019,2020,2021],\"xaxis\":\"x\",\"y\":[34,40,55,62,96,96,119,158,185,199,226,303],\"yaxis\":\"y\",\"type\":\"scatter\"}],                        {\"template\":{\"data\":{\"bar\":[{\"error_x\":{\"color\":\"#2a3f5f\"},\"error_y\":{\"color\":\"#2a3f5f\"},\"marker\":{\"line\":{\"color\":\"#E5ECF6\",\"width\":0.5},\"pattern\":{\"fillmode\":\"overlay\",\"size\":10,\"solidity\":0.2}},\"type\":\"bar\"}],\"barpolar\":[{\"marker\":{\"line\":{\"color\":\"#E5ECF6\",\"width\":0.5},\"pattern\":{\"fillmode\":\"overlay\",\"size\":10,\"solidity\":0.2}},\"type\":\"barpolar\"}],\"carpet\":[{\"aaxis\":{\"endlinecolor\":\"#2a3f5f\",\"gridcolor\":\"white\",\"linecolor\":\"white\",\"minorgridcolor\":\"white\",\"startlinecolor\":\"#2a3f5f\"},\"baxis\":{\"endlinecolor\":\"#2a3f5f\",\"gridcolor\":\"white\",\"linecolor\":\"white\",\"minorgridcolor\":\"white\",\"startlinecolor\":\"#2a3f5f\"},\"type\":\"carpet\"}],\"choropleth\":[{\"colorbar\":{\"outlinewidth\":0,\"ticks\":\"\"},\"type\":\"choropleth\"}],\"contour\":[{\"colorbar\":{\"outlinewidth\":0,\"ticks\":\"\"},\"colorscale\":[[0.0,\"#0d0887\"],[0.1111111111111111,\"#46039f\"],[0.2222222222222222,\"#7201a8\"],[0.3333333333333333,\"#9c179e\"],[0.4444444444444444,\"#bd3786\"],[0.5555555555555556,\"#d8576b\"],[0.6666666666666666,\"#ed7953\"],[0.7777777777777778,\"#fb9f3a\"],[0.8888888888888888,\"#fdca26\"],[1.0,\"#f0f921\"]],\"type\":\"contour\"}],\"contourcarpet\":[{\"colorbar\":{\"outlinewidth\":0,\"ticks\":\"\"},\"type\":\"contourcarpet\"}],\"heatmap\":[{\"colorbar\":{\"outlinewidth\":0,\"ticks\":\"\"},\"colorscale\":[[0.0,\"#0d0887\"],[0.1111111111111111,\"#46039f\"],[0.2222222222222222,\"#7201a8\"],[0.3333333333333333,\"#9c179e\"],[0.4444444444444444,\"#bd3786\"],[0.5555555555555556,\"#d8576b\"],[0.6666666666666666,\"#ed7953\"],[0.7777777777777778,\"#fb9f3a\"],[0.8888888888888888,\"#fdca26\"],[1.0,\"#f0f921\"]],\"type\":\"heatmap\"}],\"heatmapgl\":[{\"colorbar\":{\"outlinewidth\":0,\"ticks\":\"\"},\"colorscale\":[[0.0,\"#0d0887\"],[0.1111111111111111,\"#46039f\"],[0.2222222222222222,\"#7201a8\"],[0.3333333333333333,\"#9c179e\"],[0.4444444444444444,\"#bd3786\"],[0.5555555555555556,\"#d8576b\"],[0.6666666666666666,\"#ed7953\"],[0.7777777777777778,\"#fb9f3a\"],[0.8888888888888888,\"#fdca26\"],[1.0,\"#f0f921\"]],\"type\":\"heatmapgl\"}],\"histogram\":[{\"marker\":{\"pattern\":{\"fillmode\":\"overlay\",\"size\":10,\"solidity\":0.2}},\"type\":\"histogram\"}],\"histogram2d\":[{\"colorbar\":{\"outlinewidth\":0,\"ticks\":\"\"},\"colorscale\":[[0.0,\"#0d0887\"],[0.1111111111111111,\"#46039f\"],[0.2222222222222222,\"#7201a8\"],[0.3333333333333333,\"#9c179e\"],[0.4444444444444444,\"#bd3786\"],[0.5555555555555556,\"#d8576b\"],[0.6666666666666666,\"#ed7953\"],[0.7777777777777778,\"#fb9f3a\"],[0.8888888888888888,\"#fdca26\"],[1.0,\"#f0f921\"]],\"type\":\"histogram2d\"}],\"histogram2dcontour\":[{\"colorbar\":{\"outlinewidth\":0,\"ticks\":\"\"},\"colorscale\":[[0.0,\"#0d0887\"],[0.1111111111111111,\"#46039f\"],[0.2222222222222222,\"#7201a8\"],[0.3333333333333333,\"#9c179e\"],[0.4444444444444444,\"#bd3786\"],[0.5555555555555556,\"#d8576b\"],[0.6666666666666666,\"#ed7953\"],[0.7777777777777778,\"#fb9f3a\"],[0.8888888888888888,\"#fdca26\"],[1.0,\"#f0f921\"]],\"type\":\"histogram2dcontour\"}],\"mesh3d\":[{\"colorbar\":{\"outlinewidth\":0,\"ticks\":\"\"},\"type\":\"mesh3d\"}],\"parcoords\":[{\"line\":{\"colorbar\":{\"outlinewidth\":0,\"ticks\":\"\"}},\"type\":\"parcoords\"}],\"pie\":[{\"automargin\":true,\"type\":\"pie\"}],\"scatter\":[{\"marker\":{\"colorbar\":{\"outlinewidth\":0,\"ticks\":\"\"}},\"type\":\"scatter\"}],\"scatter3d\":[{\"line\":{\"colorbar\":{\"outlinewidth\":0,\"ticks\":\"\"}},\"marker\":{\"colorbar\":{\"outlinewidth\":0,\"ticks\":\"\"}},\"type\":\"scatter3d\"}],\"scattercarpet\":[{\"marker\":{\"colorbar\":{\"outlinewidth\":0,\"ticks\":\"\"}},\"type\":\"scattercarpet\"}],\"scattergeo\":[{\"marker\":{\"colorbar\":{\"outlinewidth\":0,\"ticks\":\"\"}},\"type\":\"scattergeo\"}],\"scattergl\":[{\"marker\":{\"colorbar\":{\"outlinewidth\":0,\"ticks\":\"\"}},\"type\":\"scattergl\"}],\"scattermapbox\":[{\"marker\":{\"colorbar\":{\"outlinewidth\":0,\"ticks\":\"\"}},\"type\":\"scattermapbox\"}],\"scatterpolar\":[{\"marker\":{\"colorbar\":{\"outlinewidth\":0,\"ticks\":\"\"}},\"type\":\"scatterpolar\"}],\"scatterpolargl\":[{\"marker\":{\"colorbar\":{\"outlinewidth\":0,\"ticks\":\"\"}},\"type\":\"scatterpolargl\"}],\"scatterternary\":[{\"marker\":{\"colorbar\":{\"outlinewidth\":0,\"ticks\":\"\"}},\"type\":\"scatterternary\"}],\"surface\":[{\"colorbar\":{\"outlinewidth\":0,\"ticks\":\"\"},\"colorscale\":[[0.0,\"#0d0887\"],[0.1111111111111111,\"#46039f\"],[0.2222222222222222,\"#7201a8\"],[0.3333333333333333,\"#9c179e\"],[0.4444444444444444,\"#bd3786\"],[0.5555555555555556,\"#d8576b\"],[0.6666666666666666,\"#ed7953\"],[0.7777777777777778,\"#fb9f3a\"],[0.8888888888888888,\"#fdca26\"],[1.0,\"#f0f921\"]],\"type\":\"surface\"}],\"table\":[{\"cells\":{\"fill\":{\"color\":\"#EBF0F8\"},\"line\":{\"color\":\"white\"}},\"header\":{\"fill\":{\"color\":\"#C8D4E3\"},\"line\":{\"color\":\"white\"}},\"type\":\"table\"}]},\"layout\":{\"annotationdefaults\":{\"arrowcolor\":\"#2a3f5f\",\"arrowhead\":0,\"arrowwidth\":1},\"autotypenumbers\":\"strict\",\"coloraxis\":{\"colorbar\":{\"outlinewidth\":0,\"ticks\":\"\"}},\"colorscale\":{\"diverging\":[[0,\"#8e0152\"],[0.1,\"#c51b7d\"],[0.2,\"#de77ae\"],[0.3,\"#f1b6da\"],[0.4,\"#fde0ef\"],[0.5,\"#f7f7f7\"],[0.6,\"#e6f5d0\"],[0.7,\"#b8e186\"],[0.8,\"#7fbc41\"],[0.9,\"#4d9221\"],[1,\"#276419\"]],\"sequential\":[[0.0,\"#0d0887\"],[0.1111111111111111,\"#46039f\"],[0.2222222222222222,\"#7201a8\"],[0.3333333333333333,\"#9c179e\"],[0.4444444444444444,\"#bd3786\"],[0.5555555555555556,\"#d8576b\"],[0.6666666666666666,\"#ed7953\"],[0.7777777777777778,\"#fb9f3a\"],[0.8888888888888888,\"#fdca26\"],[1.0,\"#f0f921\"]],\"sequentialminus\":[[0.0,\"#0d0887\"],[0.1111111111111111,\"#46039f\"],[0.2222222222222222,\"#7201a8\"],[0.3333333333333333,\"#9c179e\"],[0.4444444444444444,\"#bd3786\"],[0.5555555555555556,\"#d8576b\"],[0.6666666666666666,\"#ed7953\"],[0.7777777777777778,\"#fb9f3a\"],[0.8888888888888888,\"#fdca26\"],[1.0,\"#f0f921\"]]},\"colorway\":[\"#636efa\",\"#EF553B\",\"#00cc96\",\"#ab63fa\",\"#FFA15A\",\"#19d3f3\",\"#FF6692\",\"#B6E880\",\"#FF97FF\",\"#FECB52\"],\"font\":{\"color\":\"#2a3f5f\"},\"geo\":{\"bgcolor\":\"white\",\"lakecolor\":\"white\",\"landcolor\":\"#E5ECF6\",\"showlakes\":true,\"showland\":true,\"subunitcolor\":\"white\"},\"hoverlabel\":{\"align\":\"left\"},\"hovermode\":\"closest\",\"mapbox\":{\"style\":\"light\"},\"paper_bgcolor\":\"white\",\"plot_bgcolor\":\"#E5ECF6\",\"polar\":{\"angularaxis\":{\"gridcolor\":\"white\",\"linecolor\":\"white\",\"ticks\":\"\"},\"bgcolor\":\"#E5ECF6\",\"radialaxis\":{\"gridcolor\":\"white\",\"linecolor\":\"white\",\"ticks\":\"\"}},\"scene\":{\"xaxis\":{\"backgroundcolor\":\"#E5ECF6\",\"gridcolor\":\"white\",\"gridwidth\":2,\"linecolor\":\"white\",\"showbackground\":true,\"ticks\":\"\",\"zerolinecolor\":\"white\"},\"yaxis\":{\"backgroundcolor\":\"#E5ECF6\",\"gridcolor\":\"white\",\"gridwidth\":2,\"linecolor\":\"white\",\"showbackground\":true,\"ticks\":\"\",\"zerolinecolor\":\"white\"},\"zaxis\":{\"backgroundcolor\":\"#E5ECF6\",\"gridcolor\":\"white\",\"gridwidth\":2,\"linecolor\":\"white\",\"showbackground\":true,\"ticks\":\"\",\"zerolinecolor\":\"white\"}},\"shapedefaults\":{\"line\":{\"color\":\"#2a3f5f\"}},\"ternary\":{\"aaxis\":{\"gridcolor\":\"white\",\"linecolor\":\"white\",\"ticks\":\"\"},\"baxis\":{\"gridcolor\":\"white\",\"linecolor\":\"white\",\"ticks\":\"\"},\"bgcolor\":\"#E5ECF6\",\"caxis\":{\"gridcolor\":\"white\",\"linecolor\":\"white\",\"ticks\":\"\"}},\"title\":{\"x\":0.05},\"xaxis\":{\"automargin\":true,\"gridcolor\":\"white\",\"linecolor\":\"white\",\"ticks\":\"\",\"title\":{\"standoff\":15},\"zerolinecolor\":\"white\",\"zerolinewidth\":2},\"yaxis\":{\"automargin\":true,\"gridcolor\":\"white\",\"linecolor\":\"white\",\"ticks\":\"\",\"title\":{\"standoff\":15},\"zerolinecolor\":\"white\",\"zerolinewidth\":2}}},\"xaxis\":{\"anchor\":\"y\",\"domain\":[0.0,1.0],\"title\":{\"text\":\"Release Year\"}},\"yaxis\":{\"anchor\":\"x\",\"domain\":[0.0,1.0],\"title\":{\"text\":\"Total Content\"}},\"legend\":{\"title\":{\"text\":\"type\"},\"tracegroupgap\":0},\"title\":{\"text\":\"Trend of content produced over the years on Amazon\"}},                        {\"responsive\": true}                    ).then(function(){\n",
              "                            \n",
              "var gd = document.getElementById('76e3c7d1-b0c4-47f0-9d1f-8fd1f8b86ba5');\n",
              "var x = new MutationObserver(function (mutations, observer) {{\n",
              "        var display = window.getComputedStyle(gd).display;\n",
              "        if (!display || display === 'none') {{\n",
              "            console.log([gd, 'removed!']);\n",
              "            Plotly.purge(gd);\n",
              "            observer.disconnect();\n",
              "        }}\n",
              "}});\n",
              "\n",
              "// Listen for the removal of the full notebook cells\n",
              "var notebookContainer = gd.closest('#notebook-container');\n",
              "if (notebookContainer) {{\n",
              "    x.observe(notebookContainer, {childList: true});\n",
              "}}\n",
              "\n",
              "// Listen for the clearing of the current output cell\n",
              "var outputEl = gd.closest('.output');\n",
              "if (outputEl) {{\n",
              "    x.observe(outputEl, {childList: true});\n",
              "}}\n",
              "\n",
              "                        })                };                            </script>        </div>\n",
              "</body>\n",
              "</html>"
            ]
          },
          "metadata": {}
        }
      ]
    },
    {
      "cell_type": "markdown",
      "source": [
        "# **Recommending to user**\n"
      ],
      "metadata": {
        "id": "BbYbc7yRt1lV"
      }
    },
    {
      "cell_type": "code",
      "source": [
        "movie = input(\"Search:\")\n",
        "m=amazon.loc[amazon['title']==(movie)]\n",
        "n=netflix.loc[netflix['title']==(movie)]\n",
        "o=disney.loc[disney['title']==(movie)]\n",
        "if(len(m) != 0):\n",
        "  print(m)\n",
        "  try:\n",
        "      from googlesearch import search\n",
        "  except ImportError:\n",
        "      print(\"No module named 'google' found\")\n",
        "\n",
        "  # to search\n",
        "  query = movie + \" amazonprime online \"\n",
        "\n",
        "  for j in search(query, tld=\"co.in\", num=1, stop=1, pause=2):\n",
        "       print(j)\n",
        "elif(len(n) != 0):\n",
        "  print(n)\n",
        "  try:\n",
        "      from googlesearch import search\n",
        "  except ImportError:\n",
        "      print(\"No module named 'google' found\")\n",
        "\n",
        "  # to search\n",
        "  query = movie + \" netflix online \"\n",
        "\n",
        "  for j in search(query, tld=\"co.in\", num=1, stop=1, pause=2):\n",
        "       print(j)\n",
        "elif(len(o) != 0):\n",
        "  print(o)\n",
        "  try:\n",
        "      from googlesearch import search\n",
        "  except ImportError:\n",
        "      print(\"No module named 'google' found\")\n",
        "\n",
        "  # to search\n",
        "  query = movie + \" disney online \"\n",
        "\n",
        "  for j in search(query, tld=\"co.in\", num=1, stop=1, pause=2):\n",
        "       print(j)\n",
        "else:\n",
        "  try:\n",
        "      from googlesearch import search\n",
        "  except ImportError:\n",
        "      print(\"No module named 'google' found\")\n",
        "\n",
        "  # to search\n",
        "  query = movie + \" watch online \"\n",
        "  for j in search(query, tld=\"co.in\", num=1, stop=1, pause=2):\n",
        "       print(j)\n",
        "  \n"
      ],
      "metadata": {
        "colab": {
          "base_uri": "https://localhost:8080/"
        },
        "id": "b1iyrKl58tIc",
        "outputId": "38faac89-9c91-450b-c056-41292cbd5ec4"
      },
      "execution_count": null,
      "outputs": [
        {
          "output_type": "stream",
          "name": "stdout",
          "text": [
            "Search:Vampire Diaries\n",
            "https://www.netflix.com/title/70143860\n"
          ]
        }
      ]
    },
    {
      "cell_type": "code",
      "source": [
        "\n",
        "user = input(\"select the option\\n 1.amazon  2.netflix  3.disney \\n\")\n",
        "if(user=='1'):\n",
        " print(amazon['title'].loc[amazon['release_year'] == 1990].head(10))\n",
        "elif(user=='2'):\n",
        "  print(netflix['title'].loc[netflix['release_year'] == 1990].head(10))\n",
        "elif(user=='3'):\n",
        "  print(disney['title'].loc[disney['released_at']==1990].head(10))\n"
      ],
      "metadata": {
        "colab": {
          "base_uri": "https://localhost:8080/"
        },
        "id": "FP6hXaZzBbKk",
        "outputId": "c6bfd38a-6ff9-4450-e1dc-68091f15fb9d"
      },
      "execution_count": null,
      "outputs": [
        {
          "output_type": "stream",
          "name": "stdout",
          "text": [
            "select the option\n",
            " 1.amazon  2.netflix  3.disney \n",
            "1\n",
            "478                           The Prisoner\n",
            "555                     The Long Walk Home\n",
            "654                    The Forbidden Dance\n",
            "2176                                 How 2\n",
            "2385                     Garfield Specials\n",
            "2494            FBI's War on Black America\n",
            "2989                 Boyfriend School, The\n",
            "3009    Bobby's World: The Complete Series\n",
            "3040                            Blind Fury\n",
            "3161                              Bail Out\n",
            "Name: title, dtype: object\n"
          ]
        }
      ]
    },
    {
      "cell_type": "code",
      "source": [
        "year = int(input(\"Enter the year:\"))\n",
        "a=netflix['title'].loc[netflix['release_year']==year].head(10)\n",
        "b=amazon['title'].loc[amazon['release_year']==year].head(10)\n",
        "c=disney['title'].loc[disney['released_at']==year].head(10)\n",
        "pd.concat([a,b,c])"
      ],
      "metadata": {
        "colab": {
          "base_uri": "https://localhost:8080/"
        },
        "id": "rufp4l8BAmUA",
        "outputId": "6727bda2-1e0d-484b-f320-40b468bae42f"
      },
      "execution_count": null,
      "outputs": [
        {
          "name": "stdout",
          "output_type": "stream",
          "text": [
            "Enter the year:2016\n"
          ]
        },
        {
          "output_type": "execute_result",
          "data": {
            "text/plain": [
              "104                    Tayo the Little Bus\n",
              "152          Janoskians: Untold and Untrue\n",
              "153                             Kid-E-Cats\n",
              "203                   Kyaa Kool Hain Hum 3\n",
              "212                              Rebellion\n",
              "263                      Mother Goose Club\n",
              "281                          Brother Jekwu\n",
              "306                                    '76\n",
              "328                      Boyka: Undisputed\n",
              "352                  The Edge of Seventeen\n",
              "7                             Grease Live!\n",
              "10                          Forest Fairies\n",
              "16                                Zoombies\n",
              "38             Yoga with Sound Meditations\n",
              "40             Yoga to Ease Flight Anxiety\n",
              "47     Yoga for Mindfulness and Meditation\n",
              "48                   Yoga for Men's Health\n",
              "49               Yoga for Breath Awareness\n",
              "50                      Yoga For Beginners\n",
              "103                 Wild Colombia Revealed\n",
              "Name: title, dtype: object"
            ]
          },
          "metadata": {},
          "execution_count": 9
        }
      ]
    },
    {
      "cell_type": "code",
      "source": [
        "num1= input(\"Was the recommendation favourable to you? \")\n",
        "num2=input(\"Which ott platform did u like \")\n",
        "num3=input(\"Rate our app \")\n",
        "import sqlite3\n",
        "connect =sqlite3.connect('/content/drive/MyDrive/OTT PROJECT/OTT.db')\n",
        "c=connect.cursor()\n",
        "c.execute(\"Create table Feedback (mailid text,feedback1 text,feedback2 text,feedback3 text)\")\n",
        "c.execute(\"Insert into Feedback values(?,?,?,?)\",(email,num1 , num2, num3))\n",
        "print(\"Thankyou for giving feedback\")\n",
        "connect.commit()\n",
        "connect.close()"
      ],
      "metadata": {
        "id": "MUMoliKH8tF2",
        "colab": {
          "base_uri": "https://localhost:8080/"
        },
        "outputId": "269b03c5-01fd-489a-a7d5-fd17c0101449"
      },
      "execution_count": null,
      "outputs": [
        {
          "output_type": "stream",
          "name": "stdout",
          "text": [
            "Was the recommendation favourable to you? yes\n",
            "Which ott platform did u like amazon\n",
            "Rate our app 10\n",
            "Thankyou for giving feedback\n"
          ]
        }
      ]
    }
  ]
}